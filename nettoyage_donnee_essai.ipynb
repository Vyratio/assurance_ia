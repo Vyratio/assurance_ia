{
 "cells": [
  {
   "cell_type": "code",
   "execution_count": 3,
   "metadata": {},
   "outputs": [],
   "source": [
    "import pandas as pd\n",
    "import numpy as np\n",
    "import matplotlib.pyplot as plt\n",
    "import seaborn as sns\n",
    "import datetime as dt\n",
    "import scipy.stats as st\n",
    "import missingno as msno"
   ]
  },
  {
   "cell_type": "code",
   "execution_count": 4,
   "metadata": {},
   "outputs": [
    {
     "data": {
      "text/html": [
       "<div>\n",
       "<style scoped>\n",
       "    .dataframe tbody tr th:only-of-type {\n",
       "        vertical-align: middle;\n",
       "    }\n",
       "\n",
       "    .dataframe tbody tr th {\n",
       "        vertical-align: top;\n",
       "    }\n",
       "\n",
       "    .dataframe thead th {\n",
       "        text-align: right;\n",
       "    }\n",
       "</style>\n",
       "<table border=\"1\" class=\"dataframe\">\n",
       "  <thead>\n",
       "    <tr style=\"text-align: right;\">\n",
       "      <th></th>\n",
       "      <th>age</th>\n",
       "      <th>sex</th>\n",
       "      <th>bmi</th>\n",
       "      <th>children</th>\n",
       "      <th>smoker</th>\n",
       "      <th>region</th>\n",
       "      <th>charges</th>\n",
       "    </tr>\n",
       "  </thead>\n",
       "  <tbody>\n",
       "    <tr>\n",
       "      <th>0</th>\n",
       "      <td>19</td>\n",
       "      <td>female</td>\n",
       "      <td>27.900</td>\n",
       "      <td>0</td>\n",
       "      <td>yes</td>\n",
       "      <td>southwest</td>\n",
       "      <td>16884.92400</td>\n",
       "    </tr>\n",
       "    <tr>\n",
       "      <th>1</th>\n",
       "      <td>18</td>\n",
       "      <td>male</td>\n",
       "      <td>33.770</td>\n",
       "      <td>1</td>\n",
       "      <td>no</td>\n",
       "      <td>southeast</td>\n",
       "      <td>1725.55230</td>\n",
       "    </tr>\n",
       "    <tr>\n",
       "      <th>2</th>\n",
       "      <td>28</td>\n",
       "      <td>male</td>\n",
       "      <td>33.000</td>\n",
       "      <td>3</td>\n",
       "      <td>no</td>\n",
       "      <td>southeast</td>\n",
       "      <td>4449.46200</td>\n",
       "    </tr>\n",
       "    <tr>\n",
       "      <th>3</th>\n",
       "      <td>33</td>\n",
       "      <td>male</td>\n",
       "      <td>22.705</td>\n",
       "      <td>0</td>\n",
       "      <td>no</td>\n",
       "      <td>northwest</td>\n",
       "      <td>21984.47061</td>\n",
       "    </tr>\n",
       "    <tr>\n",
       "      <th>4</th>\n",
       "      <td>32</td>\n",
       "      <td>male</td>\n",
       "      <td>28.880</td>\n",
       "      <td>0</td>\n",
       "      <td>no</td>\n",
       "      <td>northwest</td>\n",
       "      <td>3866.85520</td>\n",
       "    </tr>\n",
       "  </tbody>\n",
       "</table>\n",
       "</div>"
      ],
      "text/plain": [
       "   age     sex     bmi  children smoker     region      charges\n",
       "0   19  female  27.900         0    yes  southwest  16884.92400\n",
       "1   18    male  33.770         1     no  southeast   1725.55230\n",
       "2   28    male  33.000         3     no  southeast   4449.46200\n",
       "3   33    male  22.705         0     no  northwest  21984.47061\n",
       "4   32    male  28.880         0     no  northwest   3866.85520"
      ]
     },
     "execution_count": 4,
     "metadata": {},
     "output_type": "execute_result"
    }
   ],
   "source": [
    "data = pd.read_csv('donnee_brief.csv')\n",
    "data.head()"
   ]
  },
  {
   "cell_type": "code",
   "execution_count": 5,
   "metadata": {},
   "outputs": [
    {
     "data": {
      "text/plain": [
       "(1338, 7)"
      ]
     },
     "execution_count": 5,
     "metadata": {},
     "output_type": "execute_result"
    }
   ],
   "source": [
    "data.shape"
   ]
  },
  {
   "attachments": {},
   "cell_type": "markdown",
   "metadata": {},
   "source": [
    "Nettoyage des données."
   ]
  },
  {
   "cell_type": "code",
   "execution_count": 6,
   "metadata": {},
   "outputs": [
    {
     "data": {
      "text/plain": [
       "age           int64\n",
       "sex          object\n",
       "bmi         float64\n",
       "children      int64\n",
       "smoker       object\n",
       "region       object\n",
       "charges     float64\n",
       "dtype: object"
      ]
     },
     "execution_count": 6,
     "metadata": {},
     "output_type": "execute_result"
    }
   ],
   "source": [
    "#Etude du type des variables\n",
    "data.dtypes"
   ]
  },
  {
   "cell_type": "code",
   "execution_count": 7,
   "metadata": {},
   "outputs": [
    {
     "name": "stdout",
     "output_type": "stream",
     "text": [
      "<class 'str'>\n",
      "<class 'str'>\n",
      "<class 'str'>\n"
     ]
    }
   ],
   "source": [
    "#On observe le type des objets étudiés\n",
    "print(type(data['sex'][0]))\n",
    "print(type(data['smoker'][0]))\n",
    "print(type(data['region'][0]))"
   ]
  },
  {
   "attachments": {},
   "cell_type": "markdown",
   "metadata": {},
   "source": [
    "On va regarder les elements des variables 'sex', 'smoker' et 'region' ."
   ]
  },
  {
   "cell_type": "code",
   "execution_count": 8,
   "metadata": {},
   "outputs": [
    {
     "data": {
      "text/plain": [
       "array(['female', 'male'], dtype=object)"
      ]
     },
     "execution_count": 8,
     "metadata": {},
     "output_type": "execute_result"
    }
   ],
   "source": [
    "data['sex'].unique()\n",
    "#Il n'y a que deux modalités male et female, il ne semble pas y avoir de valeurs atypiques"
   ]
  },
  {
   "cell_type": "code",
   "execution_count": 9,
   "metadata": {},
   "outputs": [
    {
     "data": {
      "text/plain": [
       "array(['yes', 'no'], dtype=object)"
      ]
     },
     "execution_count": 9,
     "metadata": {},
     "output_type": "execute_result"
    }
   ],
   "source": [
    "data['smoker'].unique()\n",
    "#Il n'y a que deux modlités yes et no , il ne semble pas y avoir de valeur atypiques"
   ]
  },
  {
   "cell_type": "code",
   "execution_count": 10,
   "metadata": {},
   "outputs": [
    {
     "data": {
      "text/plain": [
       "array(['southwest', 'southeast', 'northwest', 'northeast'], dtype=object)"
      ]
     },
     "execution_count": 10,
     "metadata": {},
     "output_type": "execute_result"
    }
   ],
   "source": [
    "data['region'].unique()\n",
    "#Il y a 4 modalités/possibilités southwest , southeast , northwest et northeast , il ne semble pas y avoir de valeurs atypiques."
   ]
  },
  {
   "attachments": {},
   "cell_type": "markdown",
   "metadata": {},
   "source": [
    "On vérifie si il y a des valeurs manquantes."
   ]
  },
  {
   "cell_type": "code",
   "execution_count": 11,
   "metadata": {},
   "outputs": [
    {
     "data": {
      "text/plain": [
       "age         0\n",
       "sex         0\n",
       "bmi         0\n",
       "children    0\n",
       "smoker      0\n",
       "region      0\n",
       "charges     0\n",
       "dtype: int64"
      ]
     },
     "execution_count": 11,
     "metadata": {},
     "output_type": "execute_result"
    }
   ],
   "source": [
    "data.isnull().sum()\n",
    "#Il n'y a pas de valeurs nulles."
   ]
  },
  {
   "cell_type": "code",
   "execution_count": 12,
   "metadata": {},
   "outputs": [
    {
     "data": {
      "text/plain": [
       "<AxesSubplot: >"
      ]
     },
     "execution_count": 12,
     "metadata": {},
     "output_type": "execute_result"
    },
    {
     "data": {
      "image/png": "[encoded data removed]",
      "text/plain": [
       "<Figure size 2500x1000 with 2 Axes>"
      ]
     },
     "metadata": {},
     "output_type": "display_data"
    }
   ],
   "source": [
    "msno.matrix(data)"
   ]
  },
  {
   "cell_type": "code",
   "execution_count": 13,
   "metadata": {},
   "outputs": [
    {
     "data": {
      "text/plain": [
       "Series([], dtype: int64)"
      ]
     },
     "execution_count": 13,
     "metadata": {},
     "output_type": "execute_result"
    }
   ],
   "source": [
    "# pour afficher uniquement les variables qui ont des valeurs manquantes ( un filtre qui peut être utile)\n",
    "nb_na = data.isnull().sum()\n",
    "nb_na[nb_na>0]"
   ]
  },
  {
   "attachments": {},
   "cell_type": "markdown",
   "metadata": {},
   "source": [
    "Voyons si il y a des doublons."
   ]
  },
  {
   "cell_type": "code",
   "execution_count": 14,
   "metadata": {},
   "outputs": [
    {
     "data": {
      "text/plain": [
       "2"
      ]
     },
     "execution_count": 14,
     "metadata": {},
     "output_type": "execute_result"
    }
   ],
   "source": [
    "data.duplicated().nunique()\n",
    "#Il semblerait qu'il y en ai deux,soit un seul élement mis deux fois."
   ]
  },
  {
   "cell_type": "code",
   "execution_count": 15,
   "metadata": {},
   "outputs": [
    {
     "data": {
      "text/html": [
       "<div>\n",
       "<style scoped>\n",
       "    .dataframe tbody tr th:only-of-type {\n",
       "        vertical-align: middle;\n",
       "    }\n",
       "\n",
       "    .dataframe tbody tr th {\n",
       "        vertical-align: top;\n",
       "    }\n",
       "\n",
       "    .dataframe thead th {\n",
       "        text-align: right;\n",
       "    }\n",
       "</style>\n",
       "<table border=\"1\" class=\"dataframe\">\n",
       "  <thead>\n",
       "    <tr style=\"text-align: right;\">\n",
       "      <th></th>\n",
       "      <th>age</th>\n",
       "      <th>sex</th>\n",
       "      <th>bmi</th>\n",
       "      <th>children</th>\n",
       "      <th>smoker</th>\n",
       "      <th>region</th>\n",
       "      <th>charges</th>\n",
       "    </tr>\n",
       "  </thead>\n",
       "  <tbody>\n",
       "    <tr>\n",
       "      <th>581</th>\n",
       "      <td>19</td>\n",
       "      <td>male</td>\n",
       "      <td>30.59</td>\n",
       "      <td>0</td>\n",
       "      <td>no</td>\n",
       "      <td>northwest</td>\n",
       "      <td>1639.5631</td>\n",
       "    </tr>\n",
       "  </tbody>\n",
       "</table>\n",
       "</div>"
      ],
      "text/plain": [
       "     age   sex    bmi  children smoker     region    charges\n",
       "581   19  male  30.59         0     no  northwest  1639.5631"
      ]
     },
     "execution_count": 15,
     "metadata": {},
     "output_type": "execute_result"
    }
   ],
   "source": [
    "data.loc[data.duplicated(keep='first'),:]\n",
    "#On recherche l'element en double."
   ]
  },
  {
   "cell_type": "code",
   "execution_count": 16,
   "metadata": {},
   "outputs": [
    {
     "data": {
      "text/html": [
       "<div>\n",
       "<style scoped>\n",
       "    .dataframe tbody tr th:only-of-type {\n",
       "        vertical-align: middle;\n",
       "    }\n",
       "\n",
       "    .dataframe tbody tr th {\n",
       "        vertical-align: top;\n",
       "    }\n",
       "\n",
       "    .dataframe thead th {\n",
       "        text-align: right;\n",
       "    }\n",
       "</style>\n",
       "<table border=\"1\" class=\"dataframe\">\n",
       "  <thead>\n",
       "    <tr style=\"text-align: right;\">\n",
       "      <th></th>\n",
       "      <th>age</th>\n",
       "      <th>sex</th>\n",
       "      <th>bmi</th>\n",
       "      <th>children</th>\n",
       "      <th>smoker</th>\n",
       "      <th>region</th>\n",
       "      <th>charges</th>\n",
       "    </tr>\n",
       "  </thead>\n",
       "  <tbody>\n",
       "    <tr>\n",
       "      <th>195</th>\n",
       "      <td>19</td>\n",
       "      <td>male</td>\n",
       "      <td>30.59</td>\n",
       "      <td>0</td>\n",
       "      <td>no</td>\n",
       "      <td>northwest</td>\n",
       "      <td>1639.5631</td>\n",
       "    </tr>\n",
       "    <tr>\n",
       "      <th>581</th>\n",
       "      <td>19</td>\n",
       "      <td>male</td>\n",
       "      <td>30.59</td>\n",
       "      <td>0</td>\n",
       "      <td>no</td>\n",
       "      <td>northwest</td>\n",
       "      <td>1639.5631</td>\n",
       "    </tr>\n",
       "  </tbody>\n",
       "</table>\n",
       "</div>"
      ],
      "text/plain": [
       "     age   sex    bmi  children smoker     region    charges\n",
       "195   19  male  30.59         0     no  northwest  1639.5631\n",
       "581   19  male  30.59         0     no  northwest  1639.5631"
      ]
     },
     "execution_count": 16,
     "metadata": {},
     "output_type": "execute_result"
    }
   ],
   "source": [
    "data.loc[data.duplicated(keep=False),:]\n",
    "#On recherche les element en double, et on vérifie si leur index \n",
    "# est proche pour valider si cela est une erreur humaine"
   ]
  },
  {
   "attachments": {},
   "cell_type": "markdown",
   "metadata": {},
   "source": [
    "Il n' y a pas d'anomalies , donc on peut conserver les valeurs car il n'est pas impossible d'avoir 2 personnes similaires, et ce n'est pas une erreur car il y a une grande différence entre les index."
   ]
  },
  {
   "cell_type": "code",
   "execution_count": 17,
   "metadata": {},
   "outputs": [],
   "source": [
    "#Si on veut supprimer les doublons.\n",
    "#data.drop_duplicates()"
   ]
  },
  {
   "attachments": {},
   "cell_type": "markdown",
   "metadata": {},
   "source": [
    "On vérifie s'il y a des valeurs aberrantes."
   ]
  },
  {
   "cell_type": "code",
   "execution_count": 18,
   "metadata": {},
   "outputs": [
    {
     "data": {
      "text/html": [
       "<div>\n",
       "<style scoped>\n",
       "    .dataframe tbody tr th:only-of-type {\n",
       "        vertical-align: middle;\n",
       "    }\n",
       "\n",
       "    .dataframe tbody tr th {\n",
       "        vertical-align: top;\n",
       "    }\n",
       "\n",
       "    .dataframe thead th {\n",
       "        text-align: right;\n",
       "    }\n",
       "</style>\n",
       "<table border=\"1\" class=\"dataframe\">\n",
       "  <thead>\n",
       "    <tr style=\"text-align: right;\">\n",
       "      <th></th>\n",
       "      <th>age</th>\n",
       "      <th>bmi</th>\n",
       "      <th>children</th>\n",
       "      <th>charges</th>\n",
       "    </tr>\n",
       "  </thead>\n",
       "  <tbody>\n",
       "    <tr>\n",
       "      <th>count</th>\n",
       "      <td>1338.000000</td>\n",
       "      <td>1338.000000</td>\n",
       "      <td>1338.000000</td>\n",
       "      <td>1338.000000</td>\n",
       "    </tr>\n",
       "    <tr>\n",
       "      <th>mean</th>\n",
       "      <td>39.207025</td>\n",
       "      <td>30.663397</td>\n",
       "      <td>1.094918</td>\n",
       "      <td>13270.422265</td>\n",
       "    </tr>\n",
       "    <tr>\n",
       "      <th>std</th>\n",
       "      <td>14.049960</td>\n",
       "      <td>6.098187</td>\n",
       "      <td>1.205493</td>\n",
       "      <td>12110.011237</td>\n",
       "    </tr>\n",
       "    <tr>\n",
       "      <th>min</th>\n",
       "      <td>18.000000</td>\n",
       "      <td>15.960000</td>\n",
       "      <td>0.000000</td>\n",
       "      <td>1121.873900</td>\n",
       "    </tr>\n",
       "    <tr>\n",
       "      <th>25%</th>\n",
       "      <td>27.000000</td>\n",
       "      <td>26.296250</td>\n",
       "      <td>0.000000</td>\n",
       "      <td>4740.287150</td>\n",
       "    </tr>\n",
       "    <tr>\n",
       "      <th>50%</th>\n",
       "      <td>39.000000</td>\n",
       "      <td>30.400000</td>\n",
       "      <td>1.000000</td>\n",
       "      <td>9382.033000</td>\n",
       "    </tr>\n",
       "    <tr>\n",
       "      <th>75%</th>\n",
       "      <td>51.000000</td>\n",
       "      <td>34.693750</td>\n",
       "      <td>2.000000</td>\n",
       "      <td>16639.912515</td>\n",
       "    </tr>\n",
       "    <tr>\n",
       "      <th>max</th>\n",
       "      <td>64.000000</td>\n",
       "      <td>53.130000</td>\n",
       "      <td>5.000000</td>\n",
       "      <td>63770.428010</td>\n",
       "    </tr>\n",
       "  </tbody>\n",
       "</table>\n",
       "</div>"
      ],
      "text/plain": [
       "               age          bmi     children       charges\n",
       "count  1338.000000  1338.000000  1338.000000   1338.000000\n",
       "mean     39.207025    30.663397     1.094918  13270.422265\n",
       "std      14.049960     6.098187     1.205493  12110.011237\n",
       "min      18.000000    15.960000     0.000000   1121.873900\n",
       "25%      27.000000    26.296250     0.000000   4740.287150\n",
       "50%      39.000000    30.400000     1.000000   9382.033000\n",
       "75%      51.000000    34.693750     2.000000  16639.912515\n",
       "max      64.000000    53.130000     5.000000  63770.428010"
      ]
     },
     "execution_count": 18,
     "metadata": {},
     "output_type": "execute_result"
    }
   ],
   "source": [
    "data.describe()\n",
    "#On récupère les infos des colonnes à données quantitatives."
   ]
  },
  {
   "cell_type": "code",
   "execution_count": 19,
   "metadata": {},
   "outputs": [
    {
     "data": {
      "text/plain": [
       "<AxesSubplot: >"
      ]
     },
     "execution_count": 19,
     "metadata": {},
     "output_type": "execute_result"
    },
    {
     "data": {
      "image/png": "[encoded data removed]",
      "text/plain": [
       "<Figure size 640x480 with 1 Axes>"
      ]
     },
     "metadata": {},
     "output_type": "display_data"
    }
   ],
   "source": [
    "sns.boxplot(data)\n",
    "#On remarque qu'il y a de nombreux outliers en charges"
   ]
  },
  {
   "attachments": {},
   "cell_type": "markdown",
   "metadata": {},
   "source": [
    "On modifie les éléments de notre datasets pour pouvoir visualiser les données."
   ]
  },
  {
   "cell_type": "code",
   "execution_count": 20,
   "metadata": {},
   "outputs": [],
   "source": [
    "data['sex']=data['sex'].replace({'male':1,'female' :2})"
   ]
  },
  {
   "cell_type": "code",
   "execution_count": 21,
   "metadata": {},
   "outputs": [],
   "source": [
    "data['smoker']=data['smoker'].replace({'yes':1,'no' :2})"
   ]
  },
  {
   "cell_type": "code",
   "execution_count": 22,
   "metadata": {},
   "outputs": [
    {
     "data": {
      "text/html": [
       "<div>\n",
       "<style scoped>\n",
       "    .dataframe tbody tr th:only-of-type {\n",
       "        vertical-align: middle;\n",
       "    }\n",
       "\n",
       "    .dataframe tbody tr th {\n",
       "        vertical-align: top;\n",
       "    }\n",
       "\n",
       "    .dataframe thead th {\n",
       "        text-align: right;\n",
       "    }\n",
       "</style>\n",
       "<table border=\"1\" class=\"dataframe\">\n",
       "  <thead>\n",
       "    <tr style=\"text-align: right;\">\n",
       "      <th></th>\n",
       "      <th>age</th>\n",
       "      <th>sex</th>\n",
       "      <th>bmi</th>\n",
       "      <th>children</th>\n",
       "      <th>smoker</th>\n",
       "      <th>charges</th>\n",
       "      <th>region_northwest</th>\n",
       "      <th>region_southeast</th>\n",
       "      <th>region_southwest</th>\n",
       "    </tr>\n",
       "  </thead>\n",
       "  <tbody>\n",
       "    <tr>\n",
       "      <th>0</th>\n",
       "      <td>19</td>\n",
       "      <td>2</td>\n",
       "      <td>27.900</td>\n",
       "      <td>0</td>\n",
       "      <td>1</td>\n",
       "      <td>16884.92400</td>\n",
       "      <td>0</td>\n",
       "      <td>0</td>\n",
       "      <td>1</td>\n",
       "    </tr>\n",
       "    <tr>\n",
       "      <th>1</th>\n",
       "      <td>18</td>\n",
       "      <td>1</td>\n",
       "      <td>33.770</td>\n",
       "      <td>1</td>\n",
       "      <td>2</td>\n",
       "      <td>1725.55230</td>\n",
       "      <td>0</td>\n",
       "      <td>1</td>\n",
       "      <td>0</td>\n",
       "    </tr>\n",
       "    <tr>\n",
       "      <th>2</th>\n",
       "      <td>28</td>\n",
       "      <td>1</td>\n",
       "      <td>33.000</td>\n",
       "      <td>3</td>\n",
       "      <td>2</td>\n",
       "      <td>4449.46200</td>\n",
       "      <td>0</td>\n",
       "      <td>1</td>\n",
       "      <td>0</td>\n",
       "    </tr>\n",
       "    <tr>\n",
       "      <th>3</th>\n",
       "      <td>33</td>\n",
       "      <td>1</td>\n",
       "      <td>22.705</td>\n",
       "      <td>0</td>\n",
       "      <td>2</td>\n",
       "      <td>21984.47061</td>\n",
       "      <td>1</td>\n",
       "      <td>0</td>\n",
       "      <td>0</td>\n",
       "    </tr>\n",
       "    <tr>\n",
       "      <th>4</th>\n",
       "      <td>32</td>\n",
       "      <td>1</td>\n",
       "      <td>28.880</td>\n",
       "      <td>0</td>\n",
       "      <td>2</td>\n",
       "      <td>3866.85520</td>\n",
       "      <td>1</td>\n",
       "      <td>0</td>\n",
       "      <td>0</td>\n",
       "    </tr>\n",
       "    <tr>\n",
       "      <th>...</th>\n",
       "      <td>...</td>\n",
       "      <td>...</td>\n",
       "      <td>...</td>\n",
       "      <td>...</td>\n",
       "      <td>...</td>\n",
       "      <td>...</td>\n",
       "      <td>...</td>\n",
       "      <td>...</td>\n",
       "      <td>...</td>\n",
       "    </tr>\n",
       "    <tr>\n",
       "      <th>1333</th>\n",
       "      <td>50</td>\n",
       "      <td>1</td>\n",
       "      <td>30.970</td>\n",
       "      <td>3</td>\n",
       "      <td>2</td>\n",
       "      <td>10600.54830</td>\n",
       "      <td>1</td>\n",
       "      <td>0</td>\n",
       "      <td>0</td>\n",
       "    </tr>\n",
       "    <tr>\n",
       "      <th>1334</th>\n",
       "      <td>18</td>\n",
       "      <td>2</td>\n",
       "      <td>31.920</td>\n",
       "      <td>0</td>\n",
       "      <td>2</td>\n",
       "      <td>2205.98080</td>\n",
       "      <td>0</td>\n",
       "      <td>0</td>\n",
       "      <td>0</td>\n",
       "    </tr>\n",
       "    <tr>\n",
       "      <th>1335</th>\n",
       "      <td>18</td>\n",
       "      <td>2</td>\n",
       "      <td>36.850</td>\n",
       "      <td>0</td>\n",
       "      <td>2</td>\n",
       "      <td>1629.83350</td>\n",
       "      <td>0</td>\n",
       "      <td>1</td>\n",
       "      <td>0</td>\n",
       "    </tr>\n",
       "    <tr>\n",
       "      <th>1336</th>\n",
       "      <td>21</td>\n",
       "      <td>2</td>\n",
       "      <td>25.800</td>\n",
       "      <td>0</td>\n",
       "      <td>2</td>\n",
       "      <td>2007.94500</td>\n",
       "      <td>0</td>\n",
       "      <td>0</td>\n",
       "      <td>1</td>\n",
       "    </tr>\n",
       "    <tr>\n",
       "      <th>1337</th>\n",
       "      <td>61</td>\n",
       "      <td>2</td>\n",
       "      <td>29.070</td>\n",
       "      <td>0</td>\n",
       "      <td>1</td>\n",
       "      <td>29141.36030</td>\n",
       "      <td>1</td>\n",
       "      <td>0</td>\n",
       "      <td>0</td>\n",
       "    </tr>\n",
       "  </tbody>\n",
       "</table>\n",
       "<p>1338 rows × 9 columns</p>\n",
       "</div>"
      ],
      "text/plain": [
       "      age  sex     bmi  children  smoker      charges  region_northwest  \\\n",
       "0      19    2  27.900         0       1  16884.92400                 0   \n",
       "1      18    1  33.770         1       2   1725.55230                 0   \n",
       "2      28    1  33.000         3       2   4449.46200                 0   \n",
       "3      33    1  22.705         0       2  21984.47061                 1   \n",
       "4      32    1  28.880         0       2   3866.85520                 1   \n",
       "...   ...  ...     ...       ...     ...          ...               ...   \n",
       "1333   50    1  30.970         3       2  10600.54830                 1   \n",
       "1334   18    2  31.920         0       2   2205.98080                 0   \n",
       "1335   18    2  36.850         0       2   1629.83350                 0   \n",
       "1336   21    2  25.800         0       2   2007.94500                 0   \n",
       "1337   61    2  29.070         0       1  29141.36030                 1   \n",
       "\n",
       "      region_southeast  region_southwest  \n",
       "0                    0                 1  \n",
       "1                    1                 0  \n",
       "2                    1                 0  \n",
       "3                    0                 0  \n",
       "4                    0                 0  \n",
       "...                ...               ...  \n",
       "1333                 0                 0  \n",
       "1334                 0                 0  \n",
       "1335                 1                 0  \n",
       "1336                 0                 1  \n",
       "1337                 0                 0  \n",
       "\n",
       "[1338 rows x 9 columns]"
      ]
     },
     "execution_count": 22,
     "metadata": {},
     "output_type": "execute_result"
    }
   ],
   "source": [
    "data = pd.get_dummies(data, columns=['region'], drop_first=True)\n",
    "data"
   ]
  },
  {
   "cell_type": "code",
   "execution_count": 23,
   "metadata": {},
   "outputs": [
    {
     "data": {
      "text/plain": [
       "<AxesSubplot: >"
      ]
     },
     "execution_count": 23,
     "metadata": {},
     "output_type": "execute_result"
    },
    {
     "data": {
      "image/png": "[encoded data removed]",
      "text/plain": [
       "<Figure size 640x480 with 1 Axes>"
      ]
     },
     "metadata": {},
     "output_type": "display_data"
    }
   ],
   "source": [
    "sns.boxplot(data)"
   ]
  },
  {
   "cell_type": "code",
   "execution_count": 24,
   "metadata": {},
   "outputs": [
    {
     "data": {
      "text/plain": [
       "<AxesSubplot: >"
      ]
     },
     "execution_count": 24,
     "metadata": {},
     "output_type": "execute_result"
    },
    {
     "data": {
      "image/png": "[encoded data removed]",
      "text/plain": [
       "<Figure size 640x480 with 1 Axes>"
      ]
     },
     "metadata": {},
     "output_type": "display_data"
    }
   ],
   "source": [
    "sns.boxplot(data[\"age\"])"
   ]
  },
  {
   "cell_type": "code",
   "execution_count": 25,
   "metadata": {},
   "outputs": [
    {
     "data": {
      "text/plain": [
       "<AxesSubplot: >"
      ]
     },
     "execution_count": 25,
     "metadata": {},
     "output_type": "execute_result"
    },
    {
     "data": {
      "image/png": "[encoded data removed]",
      "text/plain": [
       "<Figure size 640x480 with 1 Axes>"
      ]
     },
     "metadata": {},
     "output_type": "display_data"
    }
   ],
   "source": [
    "sns.boxplot(data[\"sex\"])"
   ]
  },
  {
   "cell_type": "code",
   "execution_count": 26,
   "metadata": {},
   "outputs": [
    {
     "data": {
      "text/plain": [
       "<AxesSubplot: >"
      ]
     },
     "execution_count": 26,
     "metadata": {},
     "output_type": "execute_result"
    },
    {
     "data": {
      "image/png": "[encoded data removed]",
      "text/plain": [
       "<Figure size 640x480 with 1 Axes>"
      ]
     },
     "metadata": {},
     "output_type": "display_data"
    }
   ],
   "source": [
    "sns.boxplot(data['bmi'])"
   ]
  },
  {
   "cell_type": "code",
   "execution_count": 27,
   "metadata": {},
   "outputs": [
    {
     "data": {
      "text/plain": [
       "<AxesSubplot: >"
      ]
     },
     "execution_count": 27,
     "metadata": {},
     "output_type": "execute_result"
    },
    {
     "data": {
      "image/png": "[encoded data removed]",
      "text/plain": [
       "<Figure size 640x480 with 1 Axes>"
      ]
     },
     "metadata": {},
     "output_type": "display_data"
    }
   ],
   "source": [
    "sns.boxplot(data['region_northwest'])"
   ]
  },
  {
   "cell_type": "code",
   "execution_count": 28,
   "metadata": {},
   "outputs": [
    {
     "data": {
      "text/plain": [
       "<AxesSubplot: >"
      ]
     },
     "execution_count": 28,
     "metadata": {},
     "output_type": "execute_result"
    },
    {
     "data": {
      "image/png": "[encoded data removed]",
      "text/plain": [
       "<Figure size 640x480 with 1 Axes>"
      ]
     },
     "metadata": {},
     "output_type": "display_data"
    }
   ],
   "source": [
    "sns.boxplot(data['region_southeast'])"
   ]
  },
  {
   "cell_type": "code",
   "execution_count": 29,
   "metadata": {},
   "outputs": [
    {
     "data": {
      "text/plain": [
       "<AxesSubplot: >"
      ]
     },
     "execution_count": 29,
     "metadata": {},
     "output_type": "execute_result"
    },
    {
     "data": {
      "image/png": "[encoded data removed]",
      "text/plain": [
       "<Figure size 640x480 with 1 Axes>"
      ]
     },
     "metadata": {},
     "output_type": "display_data"
    }
   ],
   "source": [
    "sns.boxplot(data['region_southwest'])"
   ]
  },
  {
   "cell_type": "code",
   "execution_count": 30,
   "metadata": {},
   "outputs": [
    {
     "data": {
      "text/plain": [
       "<AxesSubplot: >"
      ]
     },
     "execution_count": 30,
     "metadata": {},
     "output_type": "execute_result"
    },
    {
     "data": {
      "image/png": "[encoded data removed]",
      "text/plain": [
       "<Figure size 640x480 with 1 Axes>"
      ]
     },
     "metadata": {},
     "output_type": "display_data"
    }
   ],
   "source": [
    "sns.boxplot(data[\"children\"])"
   ]
  },
  {
   "cell_type": "code",
   "execution_count": 31,
   "metadata": {},
   "outputs": [
    {
     "data": {
      "text/plain": [
       "<AxesSubplot: >"
      ]
     },
     "execution_count": 31,
     "metadata": {},
     "output_type": "execute_result"
    },
    {
     "data": {
      "image/png": "[encoded data removed]",
      "text/plain": [
       "<Figure size 640x480 with 1 Axes>"
      ]
     },
     "metadata": {},
     "output_type": "display_data"
    }
   ],
   "source": [
    "sns.boxplot(data[\"charges\"])\n",
    "#Il y a de nombreuses valeurs outliers/extême"
   ]
  },
  {
   "attachments": {},
   "cell_type": "markdown",
   "metadata": {},
   "source": [
    "On interprète le BMI de cette manière.\n",
    "Entre 18,5 et 25, on estime que vous êtes dans une fourchette de poids « normal ». En dessous de 18,5, on parle de maigreur. Au-dessus de 25, on parle de surpoids, au-delà de 30, d’obésité et au-dessus de 40, d’obésité morbide.\n",
    "Il y a des personnes à risques et atypiques, mais aucune valeur aberrante."
   ]
  },
  {
   "attachments": {},
   "cell_type": "markdown",
   "metadata": {},
   "source": [
    "On interprète maintenant l'âge.\n",
    "Il n'y a pas d'assurant avant 18 ans , ce qui est logique ccar ils ne sont pas encore majeurs,et le plus vieux est de 64 ans,ce qui est normal."
   ]
  },
  {
   "attachments": {},
   "cell_type": "markdown",
   "metadata": {},
   "source": [
    "On interprète le nombre d'enfants.Il est entre 0 et 5 , ce qui est logique."
   ]
  },
  {
   "attachments": {},
   "cell_type": "markdown",
   "metadata": {},
   "source": [
    "On interprète enfin les charges.Elles sont comprise entre 1121.873900 $ et 63770.428010 $, ce qui ne semblent pas abberant sans plus de contexte.\n"
   ]
  },
  {
   "cell_type": "code",
   "execution_count": 32,
   "metadata": {},
   "outputs": [
    {
     "data": {
      "text/html": [
       "<div>\n",
       "<style scoped>\n",
       "    .dataframe tbody tr th:only-of-type {\n",
       "        vertical-align: middle;\n",
       "    }\n",
       "\n",
       "    .dataframe tbody tr th {\n",
       "        vertical-align: top;\n",
       "    }\n",
       "\n",
       "    .dataframe thead th {\n",
       "        text-align: right;\n",
       "    }\n",
       "</style>\n",
       "<table border=\"1\" class=\"dataframe\">\n",
       "  <thead>\n",
       "    <tr style=\"text-align: right;\">\n",
       "      <th></th>\n",
       "      <th>age</th>\n",
       "      <th>sex</th>\n",
       "      <th>bmi</th>\n",
       "      <th>children</th>\n",
       "      <th>smoker</th>\n",
       "      <th>charges</th>\n",
       "      <th>region_northwest</th>\n",
       "      <th>region_southeast</th>\n",
       "      <th>region_southwest</th>\n",
       "    </tr>\n",
       "  </thead>\n",
       "  <tbody>\n",
       "    <tr>\n",
       "      <th>62</th>\n",
       "      <td>64</td>\n",
       "      <td>1</td>\n",
       "      <td>24.70</td>\n",
       "      <td>1</td>\n",
       "      <td>2</td>\n",
       "      <td>30166.61817</td>\n",
       "      <td>1</td>\n",
       "      <td>0</td>\n",
       "      <td>0</td>\n",
       "    </tr>\n",
       "    <tr>\n",
       "      <th>94</th>\n",
       "      <td>64</td>\n",
       "      <td>2</td>\n",
       "      <td>31.30</td>\n",
       "      <td>2</td>\n",
       "      <td>1</td>\n",
       "      <td>47291.05500</td>\n",
       "      <td>0</td>\n",
       "      <td>0</td>\n",
       "      <td>1</td>\n",
       "    </tr>\n",
       "    <tr>\n",
       "      <th>199</th>\n",
       "      <td>64</td>\n",
       "      <td>2</td>\n",
       "      <td>39.33</td>\n",
       "      <td>0</td>\n",
       "      <td>2</td>\n",
       "      <td>14901.51670</td>\n",
       "      <td>0</td>\n",
       "      <td>0</td>\n",
       "      <td>0</td>\n",
       "    </tr>\n",
       "    <tr>\n",
       "      <th>328</th>\n",
       "      <td>64</td>\n",
       "      <td>2</td>\n",
       "      <td>33.80</td>\n",
       "      <td>1</td>\n",
       "      <td>1</td>\n",
       "      <td>47928.03000</td>\n",
       "      <td>0</td>\n",
       "      <td>0</td>\n",
       "      <td>1</td>\n",
       "    </tr>\n",
       "    <tr>\n",
       "      <th>335</th>\n",
       "      <td>64</td>\n",
       "      <td>1</td>\n",
       "      <td>34.50</td>\n",
       "      <td>0</td>\n",
       "      <td>2</td>\n",
       "      <td>13822.80300</td>\n",
       "      <td>0</td>\n",
       "      <td>0</td>\n",
       "      <td>1</td>\n",
       "    </tr>\n",
       "  </tbody>\n",
       "</table>\n",
       "</div>"
      ],
      "text/plain": [
       "     age  sex    bmi  children  smoker      charges  region_northwest  \\\n",
       "62    64    1  24.70         1       2  30166.61817                 1   \n",
       "94    64    2  31.30         2       1  47291.05500                 0   \n",
       "199   64    2  39.33         0       2  14901.51670                 0   \n",
       "328   64    2  33.80         1       1  47928.03000                 0   \n",
       "335   64    1  34.50         0       2  13822.80300                 0   \n",
       "\n",
       "     region_southeast  region_southwest  \n",
       "62                  0                 0  \n",
       "94                  0                 1  \n",
       "199                 0                 0  \n",
       "328                 0                 1  \n",
       "335                 0                 1  "
      ]
     },
     "execution_count": 32,
     "metadata": {},
     "output_type": "execute_result"
    }
   ],
   "source": [
    "data.nlargest(5, ['age'])\n",
    "#On récupère les 5 personnes les plus agées, si on veut récupérer plus d'informations."
   ]
  },
  {
   "cell_type": "code",
   "execution_count": 33,
   "metadata": {},
   "outputs": [
    {
     "data": {
      "text/html": [
       "<div>\n",
       "<style scoped>\n",
       "    .dataframe tbody tr th:only-of-type {\n",
       "        vertical-align: middle;\n",
       "    }\n",
       "\n",
       "    .dataframe tbody tr th {\n",
       "        vertical-align: top;\n",
       "    }\n",
       "\n",
       "    .dataframe thead th {\n",
       "        text-align: right;\n",
       "    }\n",
       "</style>\n",
       "<table border=\"1\" class=\"dataframe\">\n",
       "  <thead>\n",
       "    <tr style=\"text-align: right;\">\n",
       "      <th></th>\n",
       "      <th>age</th>\n",
       "      <th>sex</th>\n",
       "      <th>bmi</th>\n",
       "      <th>children</th>\n",
       "      <th>smoker</th>\n",
       "      <th>charges</th>\n",
       "      <th>region_northwest</th>\n",
       "      <th>region_southeast</th>\n",
       "      <th>region_southwest</th>\n",
       "    </tr>\n",
       "  </thead>\n",
       "  <tbody>\n",
       "    <tr>\n",
       "      <th>0</th>\n",
       "      <td>19</td>\n",
       "      <td>2</td>\n",
       "      <td>27.900</td>\n",
       "      <td>0</td>\n",
       "      <td>1</td>\n",
       "      <td>16884.92400</td>\n",
       "      <td>2</td>\n",
       "      <td>2</td>\n",
       "      <td>1</td>\n",
       "    </tr>\n",
       "    <tr>\n",
       "      <th>1</th>\n",
       "      <td>18</td>\n",
       "      <td>1</td>\n",
       "      <td>33.770</td>\n",
       "      <td>1</td>\n",
       "      <td>2</td>\n",
       "      <td>1725.55230</td>\n",
       "      <td>2</td>\n",
       "      <td>1</td>\n",
       "      <td>2</td>\n",
       "    </tr>\n",
       "    <tr>\n",
       "      <th>2</th>\n",
       "      <td>28</td>\n",
       "      <td>1</td>\n",
       "      <td>33.000</td>\n",
       "      <td>3</td>\n",
       "      <td>2</td>\n",
       "      <td>4449.46200</td>\n",
       "      <td>2</td>\n",
       "      <td>1</td>\n",
       "      <td>2</td>\n",
       "    </tr>\n",
       "    <tr>\n",
       "      <th>3</th>\n",
       "      <td>33</td>\n",
       "      <td>1</td>\n",
       "      <td>22.705</td>\n",
       "      <td>0</td>\n",
       "      <td>2</td>\n",
       "      <td>21984.47061</td>\n",
       "      <td>1</td>\n",
       "      <td>2</td>\n",
       "      <td>2</td>\n",
       "    </tr>\n",
       "    <tr>\n",
       "      <th>4</th>\n",
       "      <td>32</td>\n",
       "      <td>1</td>\n",
       "      <td>28.880</td>\n",
       "      <td>0</td>\n",
       "      <td>2</td>\n",
       "      <td>3866.85520</td>\n",
       "      <td>1</td>\n",
       "      <td>2</td>\n",
       "      <td>2</td>\n",
       "    </tr>\n",
       "    <tr>\n",
       "      <th>...</th>\n",
       "      <td>...</td>\n",
       "      <td>...</td>\n",
       "      <td>...</td>\n",
       "      <td>...</td>\n",
       "      <td>...</td>\n",
       "      <td>...</td>\n",
       "      <td>...</td>\n",
       "      <td>...</td>\n",
       "      <td>...</td>\n",
       "    </tr>\n",
       "    <tr>\n",
       "      <th>1333</th>\n",
       "      <td>50</td>\n",
       "      <td>1</td>\n",
       "      <td>30.970</td>\n",
       "      <td>3</td>\n",
       "      <td>2</td>\n",
       "      <td>10600.54830</td>\n",
       "      <td>1</td>\n",
       "      <td>2</td>\n",
       "      <td>2</td>\n",
       "    </tr>\n",
       "    <tr>\n",
       "      <th>1334</th>\n",
       "      <td>18</td>\n",
       "      <td>2</td>\n",
       "      <td>31.920</td>\n",
       "      <td>0</td>\n",
       "      <td>2</td>\n",
       "      <td>2205.98080</td>\n",
       "      <td>2</td>\n",
       "      <td>2</td>\n",
       "      <td>2</td>\n",
       "    </tr>\n",
       "    <tr>\n",
       "      <th>1335</th>\n",
       "      <td>18</td>\n",
       "      <td>2</td>\n",
       "      <td>36.850</td>\n",
       "      <td>0</td>\n",
       "      <td>2</td>\n",
       "      <td>1629.83350</td>\n",
       "      <td>2</td>\n",
       "      <td>1</td>\n",
       "      <td>2</td>\n",
       "    </tr>\n",
       "    <tr>\n",
       "      <th>1336</th>\n",
       "      <td>21</td>\n",
       "      <td>2</td>\n",
       "      <td>25.800</td>\n",
       "      <td>0</td>\n",
       "      <td>2</td>\n",
       "      <td>2007.94500</td>\n",
       "      <td>2</td>\n",
       "      <td>2</td>\n",
       "      <td>1</td>\n",
       "    </tr>\n",
       "    <tr>\n",
       "      <th>1337</th>\n",
       "      <td>61</td>\n",
       "      <td>2</td>\n",
       "      <td>29.070</td>\n",
       "      <td>0</td>\n",
       "      <td>1</td>\n",
       "      <td>29141.36030</td>\n",
       "      <td>1</td>\n",
       "      <td>2</td>\n",
       "      <td>2</td>\n",
       "    </tr>\n",
       "  </tbody>\n",
       "</table>\n",
       "<p>1338 rows × 9 columns</p>\n",
       "</div>"
      ],
      "text/plain": [
       "      age  sex     bmi  children  smoker      charges  region_northwest  \\\n",
       "0      19    2  27.900         0       1  16884.92400                 2   \n",
       "1      18    1  33.770         1       2   1725.55230                 2   \n",
       "2      28    1  33.000         3       2   4449.46200                 2   \n",
       "3      33    1  22.705         0       2  21984.47061                 1   \n",
       "4      32    1  28.880         0       2   3866.85520                 1   \n",
       "...   ...  ...     ...       ...     ...          ...               ...   \n",
       "1333   50    1  30.970         3       2  10600.54830                 1   \n",
       "1334   18    2  31.920         0       2   2205.98080                 2   \n",
       "1335   18    2  36.850         0       2   1629.83350                 2   \n",
       "1336   21    2  25.800         0       2   2007.94500                 2   \n",
       "1337   61    2  29.070         0       1  29141.36030                 1   \n",
       "\n",
       "      region_southeast  region_southwest  \n",
       "0                    2                 1  \n",
       "1                    1                 2  \n",
       "2                    1                 2  \n",
       "3                    2                 2  \n",
       "4                    2                 2  \n",
       "...                ...               ...  \n",
       "1333                 2                 2  \n",
       "1334                 2                 2  \n",
       "1335                 1                 2  \n",
       "1336                 2                 1  \n",
       "1337                 2                 2  \n",
       "\n",
       "[1338 rows x 9 columns]"
      ]
     },
     "execution_count": 33,
     "metadata": {},
     "output_type": "execute_result"
    }
   ],
   "source": [
    "data['region_northwest']=data['region_northwest'].replace({1:1,0 :2})\n",
    "data['region_southeast']=data['region_southeast'].replace({1:1,0 :2})\n",
    "data['region_southwest']=data['region_southwest'].replace({1:1,0 :2})\n",
    "data"
   ]
  },
  {
   "cell_type": "code",
   "execution_count": 34,
   "metadata": {},
   "outputs": [
    {
     "data": {
      "text/html": [
       "<div>\n",
       "<style scoped>\n",
       "    .dataframe tbody tr th:only-of-type {\n",
       "        vertical-align: middle;\n",
       "    }\n",
       "\n",
       "    .dataframe tbody tr th {\n",
       "        vertical-align: top;\n",
       "    }\n",
       "\n",
       "    .dataframe thead th {\n",
       "        text-align: right;\n",
       "    }\n",
       "</style>\n",
       "<table border=\"1\" class=\"dataframe\">\n",
       "  <thead>\n",
       "    <tr style=\"text-align: right;\">\n",
       "      <th></th>\n",
       "      <th>age</th>\n",
       "      <th>sex</th>\n",
       "      <th>bmi</th>\n",
       "      <th>children</th>\n",
       "      <th>smoker</th>\n",
       "      <th>charges</th>\n",
       "      <th>region_northwest</th>\n",
       "      <th>region_southeast</th>\n",
       "      <th>region_southwest</th>\n",
       "    </tr>\n",
       "  </thead>\n",
       "  <tbody>\n",
       "    <tr>\n",
       "      <th>count</th>\n",
       "      <td>1338.000000</td>\n",
       "      <td>1338.000000</td>\n",
       "      <td>1338.000000</td>\n",
       "      <td>1338.000000</td>\n",
       "      <td>1338.000000</td>\n",
       "      <td>1338.000000</td>\n",
       "      <td>1338.000000</td>\n",
       "      <td>1338.000000</td>\n",
       "      <td>1338.000000</td>\n",
       "    </tr>\n",
       "    <tr>\n",
       "      <th>mean</th>\n",
       "      <td>39.207025</td>\n",
       "      <td>1.494768</td>\n",
       "      <td>30.663397</td>\n",
       "      <td>1.094918</td>\n",
       "      <td>1.795217</td>\n",
       "      <td>13270.422265</td>\n",
       "      <td>1.757100</td>\n",
       "      <td>1.727952</td>\n",
       "      <td>1.757100</td>\n",
       "    </tr>\n",
       "    <tr>\n",
       "      <th>std</th>\n",
       "      <td>14.049960</td>\n",
       "      <td>0.500160</td>\n",
       "      <td>6.098187</td>\n",
       "      <td>1.205493</td>\n",
       "      <td>0.403694</td>\n",
       "      <td>12110.011237</td>\n",
       "      <td>0.428995</td>\n",
       "      <td>0.445181</td>\n",
       "      <td>0.428995</td>\n",
       "    </tr>\n",
       "    <tr>\n",
       "      <th>min</th>\n",
       "      <td>18.000000</td>\n",
       "      <td>1.000000</td>\n",
       "      <td>15.960000</td>\n",
       "      <td>0.000000</td>\n",
       "      <td>1.000000</td>\n",
       "      <td>1121.873900</td>\n",
       "      <td>1.000000</td>\n",
       "      <td>1.000000</td>\n",
       "      <td>1.000000</td>\n",
       "    </tr>\n",
       "    <tr>\n",
       "      <th>25%</th>\n",
       "      <td>27.000000</td>\n",
       "      <td>1.000000</td>\n",
       "      <td>26.296250</td>\n",
       "      <td>0.000000</td>\n",
       "      <td>2.000000</td>\n",
       "      <td>4740.287150</td>\n",
       "      <td>2.000000</td>\n",
       "      <td>1.000000</td>\n",
       "      <td>2.000000</td>\n",
       "    </tr>\n",
       "    <tr>\n",
       "      <th>50%</th>\n",
       "      <td>39.000000</td>\n",
       "      <td>1.000000</td>\n",
       "      <td>30.400000</td>\n",
       "      <td>1.000000</td>\n",
       "      <td>2.000000</td>\n",
       "      <td>9382.033000</td>\n",
       "      <td>2.000000</td>\n",
       "      <td>2.000000</td>\n",
       "      <td>2.000000</td>\n",
       "    </tr>\n",
       "    <tr>\n",
       "      <th>75%</th>\n",
       "      <td>51.000000</td>\n",
       "      <td>2.000000</td>\n",
       "      <td>34.693750</td>\n",
       "      <td>2.000000</td>\n",
       "      <td>2.000000</td>\n",
       "      <td>16639.912515</td>\n",
       "      <td>2.000000</td>\n",
       "      <td>2.000000</td>\n",
       "      <td>2.000000</td>\n",
       "    </tr>\n",
       "    <tr>\n",
       "      <th>max</th>\n",
       "      <td>64.000000</td>\n",
       "      <td>2.000000</td>\n",
       "      <td>53.130000</td>\n",
       "      <td>5.000000</td>\n",
       "      <td>2.000000</td>\n",
       "      <td>63770.428010</td>\n",
       "      <td>2.000000</td>\n",
       "      <td>2.000000</td>\n",
       "      <td>2.000000</td>\n",
       "    </tr>\n",
       "  </tbody>\n",
       "</table>\n",
       "</div>"
      ],
      "text/plain": [
       "               age          sex          bmi     children       smoker  \\\n",
       "count  1338.000000  1338.000000  1338.000000  1338.000000  1338.000000   \n",
       "mean     39.207025     1.494768    30.663397     1.094918     1.795217   \n",
       "std      14.049960     0.500160     6.098187     1.205493     0.403694   \n",
       "min      18.000000     1.000000    15.960000     0.000000     1.000000   \n",
       "25%      27.000000     1.000000    26.296250     0.000000     2.000000   \n",
       "50%      39.000000     1.000000    30.400000     1.000000     2.000000   \n",
       "75%      51.000000     2.000000    34.693750     2.000000     2.000000   \n",
       "max      64.000000     2.000000    53.130000     5.000000     2.000000   \n",
       "\n",
       "            charges  region_northwest  region_southeast  region_southwest  \n",
       "count   1338.000000       1338.000000       1338.000000       1338.000000  \n",
       "mean   13270.422265          1.757100          1.727952          1.757100  \n",
       "std    12110.011237          0.428995          0.445181          0.428995  \n",
       "min     1121.873900          1.000000          1.000000          1.000000  \n",
       "25%     4740.287150          2.000000          1.000000          2.000000  \n",
       "50%     9382.033000          2.000000          2.000000          2.000000  \n",
       "75%    16639.912515          2.000000          2.000000          2.000000  \n",
       "max    63770.428010          2.000000          2.000000          2.000000  "
      ]
     },
     "execution_count": 34,
     "metadata": {},
     "output_type": "execute_result"
    }
   ],
   "source": [
    "data.describe()"
   ]
  },
  {
   "attachments": {},
   "cell_type": "markdown",
   "metadata": {},
   "source": [
    "Analyse univariée de chaque variable. Si les distributions ne sont pas normales, appliquer une transformation logarithmique.\n",
    "Nous calculerons leur moyenne, leur mode, leur médiane, leur étendue, leur écart-type, leur coefficient de variation et leur coefficient de corrélation. "
   ]
  },
  {
   "cell_type": "code",
   "execution_count": 35,
   "metadata": {},
   "outputs": [
    {
     "name": "stdout",
     "output_type": "stream",
     "text": [
      "Moyenne\n",
      "39.20702541106129\n",
      "Mode\n",
      "0    18\n",
      "Name: age, dtype: int64\n",
      "Mediane\n",
      "39.0\n",
      "Etendue\n",
      "46\n",
      "Ecart-type\n",
      "14.049960379216154\n",
      "Coefficient de variation\n",
      "0.35835313268249896\n"
     ]
    }
   ],
   "source": [
    "print(\"Moyenne\")\n",
    "print(data['age'].mean())\n",
    "print(\"Mode\")\n",
    "print(data['age'].mode())\n",
    "print(\"Mediane\")\n",
    "print(data['age'].median())\n",
    "print(\"Etendue\")\n",
    "print((data['age'].max()-data['age'].min()))\n",
    "print(\"Ecart-type\")\n",
    "print(data['age'].std())\n",
    "print(\"Coefficient de variation\")\n",
    "CV = data['age'].std() / data['age'].mean()\n",
    "print(CV)\n"
   ]
  },
  {
   "cell_type": "code",
   "execution_count": 36,
   "metadata": {},
   "outputs": [
    {
     "name": "stdout",
     "output_type": "stream",
     "text": [
      "Moyenne\n",
      "1.4947683109118086\n",
      "Mode\n",
      "0    1\n",
      "Name: sex, dtype: int64\n",
      "Mediane\n",
      "1.0\n",
      "Etendue\n",
      "1\n",
      "Ecart-type\n",
      "0.500159569284377\n",
      "Coefficient de variation\n",
      "0.3346067518512482\n"
     ]
    }
   ],
   "source": [
    "print(\"Moyenne\")\n",
    "print(data['sex'].mean())\n",
    "print(\"Mode\")\n",
    "print(data['sex'].mode())\n",
    "print(\"Mediane\")\n",
    "print(data['sex'].median())\n",
    "print(\"Etendue\")\n",
    "print((data['sex'].max()-data['sex'].min()))\n",
    "print(\"Ecart-type\")\n",
    "print(data['sex'].std())\n",
    "print(\"Coefficient de variation\")\n",
    "CV = data['sex'].std() / data['sex'].mean()\n",
    "print(CV)"
   ]
  },
  {
   "cell_type": "code",
   "execution_count": 37,
   "metadata": {},
   "outputs": [
    {
     "name": "stdout",
     "output_type": "stream",
     "text": [
      "Moyenne\n",
      "30.66339686098655\n",
      "Mode\n",
      "0    32.3\n",
      "Name: bmi, dtype: float64\n",
      "Mediane\n",
      "30.4\n",
      "Etendue\n",
      "37.17\n",
      "Ecart-type\n",
      "6.098186911679014\n",
      "Coefficient de variation\n",
      "0.19887512591397918\n"
     ]
    }
   ],
   "source": [
    "print(\"Moyenne\")\n",
    "print(data['bmi'].mean())\n",
    "print(\"Mode\")\n",
    "print(data['bmi'].mode())\n",
    "print(\"Mediane\")\n",
    "print(data['bmi'].median())\n",
    "print(\"Etendue\")\n",
    "print((data['bmi'].max()-data['bmi'].min()))\n",
    "print(\"Ecart-type\")\n",
    "print(data['bmi'].std())\n",
    "print(\"Coefficient de variation\")\n",
    "CV = data['bmi'].std() / data['bmi'].mean()\n",
    "print(CV)"
   ]
  },
  {
   "cell_type": "code",
   "execution_count": 38,
   "metadata": {},
   "outputs": [
    {
     "name": "stdout",
     "output_type": "stream",
     "text": [
      "Moyenne\n",
      "1.0949177877429\n",
      "Mode\n",
      "0    0\n",
      "Name: children, dtype: int64\n",
      "Mediane\n",
      "1.0\n",
      "Etendue\n",
      "5\n",
      "Ecart-type\n",
      "1.205492739781914\n",
      "Coefficient de variation\n",
      "1.1009892736028675\n"
     ]
    }
   ],
   "source": [
    "print(\"Moyenne\")\n",
    "print(data['children'].mean())\n",
    "print(\"Mode\")\n",
    "print(data['children'].mode())\n",
    "print(\"Mediane\")\n",
    "print(data['children'].median())\n",
    "print(\"Etendue\")\n",
    "print((data['children'].max()-data['children'].min()))\n",
    "print(\"Ecart-type\")\n",
    "print(data['children'].std())\n",
    "print(\"Coefficient de variation\")\n",
    "CV = data['children'].std() / data['children'].mean()\n",
    "print(CV)\n"
   ]
  },
  {
   "cell_type": "code",
   "execution_count": 39,
   "metadata": {},
   "outputs": [
    {
     "name": "stdout",
     "output_type": "stream",
     "text": [
      "Moyenne\n",
      "1.7952167414050821\n",
      "Mode\n",
      "0    2\n",
      "Name: smoker, dtype: int64\n",
      "Mediane\n",
      "2.0\n",
      "Etendue\n",
      "1\n",
      "Ecart-type\n",
      "0.40369403754561717\n",
      "Coefficient de variation\n",
      "0.22487203257120558\n"
     ]
    }
   ],
   "source": [
    "print(\"Moyenne\")\n",
    "print(data['smoker'].mean())\n",
    "print(\"Mode\")\n",
    "print(data['smoker'].mode())\n",
    "print(\"Mediane\")\n",
    "print(data['smoker'].median())\n",
    "print(\"Etendue\")\n",
    "print((data['smoker'].max()-data['smoker'].min()))\n",
    "print(\"Ecart-type\")\n",
    "print(data['smoker'].std())\n",
    "print(\"Coefficient de variation\")\n",
    "CV = data['smoker'].std() / data['smoker'].mean()\n",
    "print(CV)"
   ]
  },
  {
   "cell_type": "code",
   "execution_count": 40,
   "metadata": {},
   "outputs": [
    {
     "name": "stdout",
     "output_type": "stream",
     "text": [
      "Moyenne\n",
      "13270.422265141257\n",
      "Mode\n",
      "0    1639.5631\n",
      "Name: charges, dtype: float64\n",
      "Mediane\n",
      "9382.033\n",
      "Etendue\n",
      "62648.554110000005\n",
      "Ecart-type\n",
      "12110.011236694001\n",
      "Coefficient de variation\n",
      "0.9125565859727446\n"
     ]
    }
   ],
   "source": [
    "print(\"Moyenne\")\n",
    "print(data['charges'].mean())\n",
    "print(\"Mode\")\n",
    "print(data['charges'].mode())\n",
    "print(\"Mediane\")\n",
    "print(data['charges'].median())\n",
    "print(\"Etendue\")\n",
    "print((data['charges'].max()-data['charges'].min()))\n",
    "print(\"Ecart-type\")\n",
    "print(data['charges'].std())\n",
    "print(\"Coefficient de variation\")\n",
    "CV = data['charges'].std() / data['charges'].mean()\n",
    "print(CV)"
   ]
  },
  {
   "cell_type": "code",
   "execution_count": 41,
   "metadata": {},
   "outputs": [
    {
     "name": "stdout",
     "output_type": "stream",
     "text": [
      "Moyenne\n",
      "1.757100149476831\n",
      "Mode\n",
      "0    2\n",
      "Name: region_northwest, dtype: uint8\n",
      "Mediane\n",
      "2.0\n",
      "Etendue\n",
      "1\n",
      "Ecart-type\n",
      "0.4289954073428922\n",
      "Coefficient de variation\n",
      "0.24414966185656733\n"
     ]
    }
   ],
   "source": [
    "print(\"Moyenne\")\n",
    "print(data['region_northwest'].mean())\n",
    "print(\"Mode\")\n",
    "print(data['region_northwest'].mode())\n",
    "print(\"Mediane\")\n",
    "print(data['region_northwest'].median())\n",
    "print(\"Etendue\")\n",
    "print((data['region_northwest'].max()-data['region_northwest'].min()))\n",
    "print(\"Ecart-type\")\n",
    "print(data['region_northwest'].std())\n",
    "print(\"Coefficient de variation\")\n",
    "CV = data['region_northwest'].std() / data['region_northwest'].mean()\n",
    "print(CV)"
   ]
  },
  {
   "cell_type": "code",
   "execution_count": 42,
   "metadata": {},
   "outputs": [
    {
     "name": "stdout",
     "output_type": "stream",
     "text": [
      "Moyenne\n",
      "1.7279521674140508\n",
      "Mode\n",
      "0    2\n",
      "Name: region_southeast, dtype: uint8\n",
      "Mediane\n",
      "2.0\n",
      "Etendue\n",
      "1\n",
      "Ecart-type\n",
      "0.4451807839467562\n",
      "Coefficient de variation\n",
      "0.2576349000522318\n"
     ]
    }
   ],
   "source": [
    "print(\"Moyenne\")\n",
    "print(data['region_southeast'].mean())\n",
    "print(\"Mode\")\n",
    "print(data['region_southeast'].mode())\n",
    "print(\"Mediane\")\n",
    "print(data['region_southeast'].median())\n",
    "print(\"Etendue\")\n",
    "print((data['region_southeast'].max()-data['region_southeast'].min()))\n",
    "print(\"Ecart-type\")\n",
    "print(data['region_southeast'].std())\n",
    "print(\"Coefficient de variation\")\n",
    "CV = data['region_southeast'].std() / data['region_southeast'].mean()\n",
    "print(CV)"
   ]
  },
  {
   "cell_type": "code",
   "execution_count": 43,
   "metadata": {},
   "outputs": [
    {
     "name": "stdout",
     "output_type": "stream",
     "text": [
      "Moyenne\n",
      "1.757100149476831\n",
      "Mode\n",
      "0    2\n",
      "Name: region_southwest, dtype: uint8\n",
      "Mediane\n",
      "2.0\n",
      "Etendue\n",
      "1\n",
      "Ecart-type\n",
      "0.4289954073428922\n",
      "Coefficient de variation\n",
      "0.24414966185656733\n"
     ]
    }
   ],
   "source": [
    "print(\"Moyenne\")\n",
    "print(data['region_southwest'].mean())\n",
    "print(\"Mode\")\n",
    "print(data['region_southwest'].mode())\n",
    "print(\"Mediane\")\n",
    "print(data['region_southwest'].median())\n",
    "print(\"Etendue\")\n",
    "print((data['region_southwest'].max()-data['region_southwest'].min()))\n",
    "print(\"Ecart-type\")\n",
    "print(data['region_southwest'].std())\n",
    "print(\"Coefficient de variation\")\n",
    "CV = data['region_southwest'].std() / data['region_southwest'].mean()\n",
    "print(CV)"
   ]
  },
  {
   "cell_type": "code",
   "execution_count": 44,
   "metadata": {},
   "outputs": [
    {
     "data": {
      "text/plain": [
       "age                   int64\n",
       "sex                   int64\n",
       "bmi                 float64\n",
       "children              int64\n",
       "smoker                int64\n",
       "charges             float64\n",
       "region_northwest      uint8\n",
       "region_southeast      uint8\n",
       "region_southwest      uint8\n",
       "dtype: object"
      ]
     },
     "execution_count": 44,
     "metadata": {},
     "output_type": "execute_result"
    }
   ],
   "source": [
    "data.dtypes"
   ]
  },
  {
   "cell_type": "code",
   "execution_count": null,
   "metadata": {},
   "outputs": [],
   "source": []
  },
  {
   "cell_type": "code",
   "execution_count": 45,
   "metadata": {},
   "outputs": [
    {
     "data": {
      "text/plain": [
       "<seaborn.axisgrid.FacetGrid at 0x7f31ce85f5e0>"
      ]
     },
     "execution_count": 45,
     "metadata": {},
     "output_type": "execute_result"
    },
    {
     "data": {
      "image/png": "[encoded data removed]",
      "text/plain": [
       "<Figure size 500x500 with 1 Axes>"
      ]
     },
     "metadata": {},
     "output_type": "display_data"
    }
   ],
   "source": [
    "sns.displot(data, x='age')\n",
    "#Cela ne ressemble pas à une distribution normale , mais pourrait être laissé telle qu'elle car semble relativement uniforme .Nous allons quand même la normaliser via transformation logarithmique\n"
   ]
  },
  {
   "cell_type": "code",
   "execution_count": 46,
   "metadata": {},
   "outputs": [
    {
     "data": {
      "text/html": [
       "<div>\n",
       "<style scoped>\n",
       "    .dataframe tbody tr th:only-of-type {\n",
       "        vertical-align: middle;\n",
       "    }\n",
       "\n",
       "    .dataframe tbody tr th {\n",
       "        vertical-align: top;\n",
       "    }\n",
       "\n",
       "    .dataframe thead th {\n",
       "        text-align: right;\n",
       "    }\n",
       "</style>\n",
       "<table border=\"1\" class=\"dataframe\">\n",
       "  <thead>\n",
       "    <tr style=\"text-align: right;\">\n",
       "      <th></th>\n",
       "      <th>age</th>\n",
       "    </tr>\n",
       "  </thead>\n",
       "  <tbody>\n",
       "    <tr>\n",
       "      <th>0</th>\n",
       "      <td>2.944439</td>\n",
       "    </tr>\n",
       "    <tr>\n",
       "      <th>1</th>\n",
       "      <td>2.890372</td>\n",
       "    </tr>\n",
       "    <tr>\n",
       "      <th>2</th>\n",
       "      <td>3.332205</td>\n",
       "    </tr>\n",
       "    <tr>\n",
       "      <th>3</th>\n",
       "      <td>3.496508</td>\n",
       "    </tr>\n",
       "    <tr>\n",
       "      <th>4</th>\n",
       "      <td>3.465736</td>\n",
       "    </tr>\n",
       "    <tr>\n",
       "      <th>...</th>\n",
       "      <td>...</td>\n",
       "    </tr>\n",
       "    <tr>\n",
       "      <th>1333</th>\n",
       "      <td>3.912023</td>\n",
       "    </tr>\n",
       "    <tr>\n",
       "      <th>1334</th>\n",
       "      <td>2.890372</td>\n",
       "    </tr>\n",
       "    <tr>\n",
       "      <th>1335</th>\n",
       "      <td>2.890372</td>\n",
       "    </tr>\n",
       "    <tr>\n",
       "      <th>1336</th>\n",
       "      <td>3.044522</td>\n",
       "    </tr>\n",
       "    <tr>\n",
       "      <th>1337</th>\n",
       "      <td>4.110874</td>\n",
       "    </tr>\n",
       "  </tbody>\n",
       "</table>\n",
       "<p>1338 rows × 1 columns</p>\n",
       "</div>"
      ],
      "text/plain": [
       "           age\n",
       "0     2.944439\n",
       "1     2.890372\n",
       "2     3.332205\n",
       "3     3.496508\n",
       "4     3.465736\n",
       "...        ...\n",
       "1333  3.912023\n",
       "1334  2.890372\n",
       "1335  2.890372\n",
       "1336  3.044522\n",
       "1337  4.110874\n",
       "\n",
       "[1338 rows x 1 columns]"
      ]
     },
     "execution_count": 46,
     "metadata": {},
     "output_type": "execute_result"
    }
   ],
   "source": [
    "# df_log = df[['column1', 'column2']].apply(np.log)\n",
    "#Voila comment appliqué la transformation logarithmique à plusieurs colonnes\n",
    "data_log = data[['age']].apply(np.log)\n",
    "data_log"
   ]
  },
  {
   "cell_type": "code",
   "execution_count": 47,
   "metadata": {},
   "outputs": [
    {
     "data": {
      "text/plain": [
       "<seaborn.axisgrid.FacetGrid at 0x7f31d0fba8c0>"
      ]
     },
     "execution_count": 47,
     "metadata": {},
     "output_type": "execute_result"
    },
    {
     "data": {
      "image/png": "[encoded data removed]",
      "text/plain": [
       "<Figure size 500x500 with 1 Axes>"
      ]
     },
     "metadata": {},
     "output_type": "display_data"
    }
   ],
   "source": [
    "sns.displot(data_log, x='age')\n",
    "#Le test n'est pas pertinent car la distiribution semblait uniforme mais est maintenant plus asymétrique."
   ]
  },
  {
   "cell_type": "code",
   "execution_count": 48,
   "metadata": {},
   "outputs": [
    {
     "data": {
      "text/plain": [
       "<seaborn.axisgrid.FacetGrid at 0x7f31ce7b8970>"
      ]
     },
     "execution_count": 48,
     "metadata": {},
     "output_type": "execute_result"
    },
    {
     "data": {
      "image/png": "[encoded data removed]",
      "text/plain": [
       "<Figure size 500x500 with 1 Axes>"
      ]
     },
     "metadata": {},
     "output_type": "display_data"
    }
   ],
   "source": [
    "sns.displot(data, x='sex')"
   ]
  },
  {
   "cell_type": "code",
   "execution_count": 49,
   "metadata": {},
   "outputs": [
    {
     "data": {
      "text/plain": [
       "<seaborn.axisgrid.FacetGrid at 0x7f31ce87a9b0>"
      ]
     },
     "execution_count": 49,
     "metadata": {},
     "output_type": "execute_result"
    },
    {
     "data": {
      "image/png": "[encoded data removed]",
      "text/plain": [
       "<Figure size 500x500 with 1 Axes>"
      ]
     },
     "metadata": {},
     "output_type": "display_data"
    }
   ],
   "source": [
    "sns.displot(data, x='bmi')"
   ]
  },
  {
   "cell_type": "code",
   "execution_count": 50,
   "metadata": {},
   "outputs": [
    {
     "data": {
      "text/plain": [
       "<seaborn.axisgrid.FacetGrid at 0x7f31ce6f0c40>"
      ]
     },
     "execution_count": 50,
     "metadata": {},
     "output_type": "execute_result"
    },
    {
     "data": {
      "image/png": "[encoded data removed]",
      "text/plain": [
       "<Figure size 500x500 with 1 Axes>"
      ]
     },
     "metadata": {},
     "output_type": "display_data"
    }
   ],
   "source": [
    "sns.displot(data, x='children')\n",
    "#ce sont des catégories , nous n'appliquerons pas de transformation"
   ]
  },
  {
   "cell_type": "code",
   "execution_count": 51,
   "metadata": {},
   "outputs": [
    {
     "data": {
      "text/html": [
       "<div>\n",
       "<style scoped>\n",
       "    .dataframe tbody tr th:only-of-type {\n",
       "        vertical-align: middle;\n",
       "    }\n",
       "\n",
       "    .dataframe tbody tr th {\n",
       "        vertical-align: top;\n",
       "    }\n",
       "\n",
       "    .dataframe thead th {\n",
       "        text-align: right;\n",
       "    }\n",
       "</style>\n",
       "<table border=\"1\" class=\"dataframe\">\n",
       "  <thead>\n",
       "    <tr style=\"text-align: right;\">\n",
       "      <th></th>\n",
       "      <th>children</th>\n",
       "    </tr>\n",
       "  </thead>\n",
       "  <tbody>\n",
       "    <tr>\n",
       "      <th>0</th>\n",
       "      <td>-inf</td>\n",
       "    </tr>\n",
       "    <tr>\n",
       "      <th>1</th>\n",
       "      <td>0.000000</td>\n",
       "    </tr>\n",
       "    <tr>\n",
       "      <th>2</th>\n",
       "      <td>1.098612</td>\n",
       "    </tr>\n",
       "    <tr>\n",
       "      <th>3</th>\n",
       "      <td>-inf</td>\n",
       "    </tr>\n",
       "    <tr>\n",
       "      <th>4</th>\n",
       "      <td>-inf</td>\n",
       "    </tr>\n",
       "    <tr>\n",
       "      <th>...</th>\n",
       "      <td>...</td>\n",
       "    </tr>\n",
       "    <tr>\n",
       "      <th>1333</th>\n",
       "      <td>1.098612</td>\n",
       "    </tr>\n",
       "    <tr>\n",
       "      <th>1334</th>\n",
       "      <td>-inf</td>\n",
       "    </tr>\n",
       "    <tr>\n",
       "      <th>1335</th>\n",
       "      <td>-inf</td>\n",
       "    </tr>\n",
       "    <tr>\n",
       "      <th>1336</th>\n",
       "      <td>-inf</td>\n",
       "    </tr>\n",
       "    <tr>\n",
       "      <th>1337</th>\n",
       "      <td>-inf</td>\n",
       "    </tr>\n",
       "  </tbody>\n",
       "</table>\n",
       "<p>1338 rows × 1 columns</p>\n",
       "</div>"
      ],
      "text/plain": [
       "      children\n",
       "0         -inf\n",
       "1     0.000000\n",
       "2     1.098612\n",
       "3         -inf\n",
       "4         -inf\n",
       "...        ...\n",
       "1333  1.098612\n",
       "1334      -inf\n",
       "1335      -inf\n",
       "1336      -inf\n",
       "1337      -inf\n",
       "\n",
       "[1338 rows x 1 columns]"
      ]
     },
     "execution_count": 51,
     "metadata": {},
     "output_type": "execute_result"
    }
   ],
   "source": [
    "#Exemple cela ne marche pas avec les catégories\n",
    "data_children_log=data[['children']].apply(np.log)\n",
    "data_children_log"
   ]
  },
  {
   "cell_type": "code",
   "execution_count": 52,
   "metadata": {},
   "outputs": [
    {
     "data": {
      "text/plain": [
       "<seaborn.axisgrid.FacetGrid at 0x7f31ce7e5f60>"
      ]
     },
     "execution_count": 52,
     "metadata": {},
     "output_type": "execute_result"
    },
    {
     "data": {
      "image/png": "[encoded data removed]",
      "text/plain": [
       "<Figure size 500x500 with 1 Axes>"
      ]
     },
     "metadata": {},
     "output_type": "display_data"
    }
   ],
   "source": [
    "sns.displot(data_children_log, x='children')"
   ]
  },
  {
   "cell_type": "code",
   "execution_count": 53,
   "metadata": {},
   "outputs": [
    {
     "data": {
      "text/plain": [
       "<seaborn.axisgrid.FacetGrid at 0x7f31ce5e5180>"
      ]
     },
     "execution_count": 53,
     "metadata": {},
     "output_type": "execute_result"
    },
    {
     "data": {
      "image/png": "[encoded data removed]",
      "text/plain": [
       "<Figure size 500x500 with 1 Axes>"
      ]
     },
     "metadata": {},
     "output_type": "display_data"
    }
   ],
   "source": [
    "sns.displot(data, x='smoker')"
   ]
  },
  {
   "cell_type": "code",
   "execution_count": 54,
   "metadata": {},
   "outputs": [
    {
     "data": {
      "text/plain": [
       "<seaborn.axisgrid.FacetGrid at 0x7f31ce4d6da0>"
      ]
     },
     "execution_count": 54,
     "metadata": {},
     "output_type": "execute_result"
    },
    {
     "data": {
      "image/png": "[encoded data removed]",
      "text/plain": [
       "<Figure size 500x500 with 1 Axes>"
      ]
     },
     "metadata": {},
     "output_type": "display_data"
    }
   ],
   "source": [
    "sns.displot(data, x='charges')\n",
    "#Ici il semble que la transformation logarithmique peut être utile car il y a de nombreux outliers/valeurs extrêmes "
   ]
  },
  {
   "cell_type": "code",
   "execution_count": 55,
   "metadata": {},
   "outputs": [
    {
     "data": {
      "text/html": [
       "<div>\n",
       "<style scoped>\n",
       "    .dataframe tbody tr th:only-of-type {\n",
       "        vertical-align: middle;\n",
       "    }\n",
       "\n",
       "    .dataframe tbody tr th {\n",
       "        vertical-align: top;\n",
       "    }\n",
       "\n",
       "    .dataframe thead th {\n",
       "        text-align: right;\n",
       "    }\n",
       "</style>\n",
       "<table border=\"1\" class=\"dataframe\">\n",
       "  <thead>\n",
       "    <tr style=\"text-align: right;\">\n",
       "      <th></th>\n",
       "      <th>charges</th>\n",
       "    </tr>\n",
       "  </thead>\n",
       "  <tbody>\n",
       "    <tr>\n",
       "      <th>0</th>\n",
       "      <td>9.734176</td>\n",
       "    </tr>\n",
       "    <tr>\n",
       "      <th>1</th>\n",
       "      <td>7.453302</td>\n",
       "    </tr>\n",
       "    <tr>\n",
       "      <th>2</th>\n",
       "      <td>8.400538</td>\n",
       "    </tr>\n",
       "    <tr>\n",
       "      <th>3</th>\n",
       "      <td>9.998092</td>\n",
       "    </tr>\n",
       "    <tr>\n",
       "      <th>4</th>\n",
       "      <td>8.260197</td>\n",
       "    </tr>\n",
       "    <tr>\n",
       "      <th>...</th>\n",
       "      <td>...</td>\n",
       "    </tr>\n",
       "    <tr>\n",
       "      <th>1333</th>\n",
       "      <td>9.268661</td>\n",
       "    </tr>\n",
       "    <tr>\n",
       "      <th>1334</th>\n",
       "      <td>7.698927</td>\n",
       "    </tr>\n",
       "    <tr>\n",
       "      <th>1335</th>\n",
       "      <td>7.396233</td>\n",
       "    </tr>\n",
       "    <tr>\n",
       "      <th>1336</th>\n",
       "      <td>7.604867</td>\n",
       "    </tr>\n",
       "    <tr>\n",
       "      <th>1337</th>\n",
       "      <td>10.279914</td>\n",
       "    </tr>\n",
       "  </tbody>\n",
       "</table>\n",
       "<p>1338 rows × 1 columns</p>\n",
       "</div>"
      ],
      "text/plain": [
       "        charges\n",
       "0      9.734176\n",
       "1      7.453302\n",
       "2      8.400538\n",
       "3      9.998092\n",
       "4      8.260197\n",
       "...         ...\n",
       "1333   9.268661\n",
       "1334   7.698927\n",
       "1335   7.396233\n",
       "1336   7.604867\n",
       "1337  10.279914\n",
       "\n",
       "[1338 rows x 1 columns]"
      ]
     },
     "execution_count": 55,
     "metadata": {},
     "output_type": "execute_result"
    }
   ],
   "source": [
    "data_log_charge = data[['charges']].apply(np.log)\n",
    "data_log_charge"
   ]
  },
  {
   "cell_type": "code",
   "execution_count": 56,
   "metadata": {},
   "outputs": [
    {
     "data": {
      "text/plain": [
       "<seaborn.axisgrid.FacetGrid at 0x7f31ce35fca0>"
      ]
     },
     "execution_count": 56,
     "metadata": {},
     "output_type": "execute_result"
    },
    {
     "data": {
      "image/png": "[encoded data removed]",
      "text/plain": [
       "<Figure size 500x500 with 1 Axes>"
      ]
     },
     "metadata": {},
     "output_type": "display_data"
    }
   ],
   "source": [
    "sns.displot(data_log_charge, x='charges')\n",
    "#Ici la transformation semble nous rendre une distribution normale, ce qui serait plus facile à manipuler"
   ]
  },
  {
   "cell_type": "code",
   "execution_count": 57,
   "metadata": {},
   "outputs": [
    {
     "data": {
      "text/plain": [
       "<seaborn.axisgrid.FacetGrid at 0x7f31ce5bb160>"
      ]
     },
     "execution_count": 57,
     "metadata": {},
     "output_type": "execute_result"
    },
    {
     "data": {
      "image/png": "[encoded data removed]",
      "text/plain": [
       "<Figure size 500x500 with 1 Axes>"
      ]
     },
     "metadata": {},
     "output_type": "display_data"
    }
   ],
   "source": [
    "sns.displot(data, x='region_northwest')"
   ]
  },
  {
   "cell_type": "code",
   "execution_count": 58,
   "metadata": {},
   "outputs": [
    {
     "data": {
      "text/plain": [
       "<seaborn.axisgrid.FacetGrid at 0x7f31ce2731f0>"
      ]
     },
     "execution_count": 58,
     "metadata": {},
     "output_type": "execute_result"
    },
    {
     "data": {
      "image/png": "[encoded data removed]",
      "text/plain": [
       "<Figure size 500x500 with 1 Axes>"
      ]
     },
     "metadata": {},
     "output_type": "display_data"
    }
   ],
   "source": [
    "sns.displot(data, x='region_southeast')"
   ]
  },
  {
   "cell_type": "code",
   "execution_count": 59,
   "metadata": {},
   "outputs": [
    {
     "data": {
      "text/plain": [
       "<seaborn.axisgrid.FacetGrid at 0x7f31ce17cf40>"
      ]
     },
     "execution_count": 59,
     "metadata": {},
     "output_type": "execute_result"
    },
    {
     "data": {
      "image/png": "[encoded data removed]",
      "text/plain": [
       "<Figure size 500x500 with 1 Axes>"
      ]
     },
     "metadata": {},
     "output_type": "display_data"
    }
   ],
   "source": [
    "sns.displot(data, x='region_southwest')\n"
   ]
  },
  {
   "attachments": {},
   "cell_type": "markdown",
   "metadata": {},
   "source": [
    "Etude de la corrélation"
   ]
  },
  {
   "cell_type": "code",
   "execution_count": 60,
   "metadata": {},
   "outputs": [
    {
     "data": {
      "text/plain": [
       "age                   int64\n",
       "sex                   int64\n",
       "bmi                 float64\n",
       "children              int64\n",
       "smoker                int64\n",
       "charges             float64\n",
       "region_northwest      uint8\n",
       "region_southeast      uint8\n",
       "region_southwest      uint8\n",
       "dtype: object"
      ]
     },
     "execution_count": 60,
     "metadata": {},
     "output_type": "execute_result"
    }
   ],
   "source": [
    "data.dtypes"
   ]
  },
  {
   "cell_type": "code",
   "execution_count": 61,
   "metadata": {},
   "outputs": [
    {
     "data": {
      "text/plain": [
       "<AxesSubplot: >"
      ]
     },
     "execution_count": 61,
     "metadata": {},
     "output_type": "execute_result"
    },
    {
     "data": {
      "image/png": "[encoded data removed]",
      "text/plain": [
       "<Figure size 200x800 with 2 Axes>"
      ]
     },
     "metadata": {},
     "output_type": "display_data"
    }
   ],
   "source": [
    "corr = data.corr()\n",
    "corr_to_charges = data.drop('charges', axis=1).corrwith(data['charges'])\n",
    "fig, ax = plt.subplots()\n",
    "fig.set_size_inches(2,8)\n",
    "\n",
    "sns.heatmap(pd.DataFrame(corr_to_charges), center=0, ax=ax, annot=True)"
   ]
  },
  {
   "cell_type": "code",
   "execution_count": 62,
   "metadata": {},
   "outputs": [],
   "source": [
    "#Interprétation des test du chi 2\n",
    "# if p < 0.05:\n",
    "#     print('Les différences observées sont significatives (p = {:.3f}).'.format(p))\n",
    "# else:\n",
    "#     print('Les différences observées ne sont pas significatives (p = {:.3f}).'.format(p))"
   ]
  },
  {
   "cell_type": "code",
   "execution_count": 63,
   "metadata": {},
   "outputs": [],
   "source": [
    "# Pour standardiser un dataframe \n",
    "# import pandas as pd\n",
    "\n",
    "# # Création d'un exemple de dataframe\n",
    "# df = pd.DataFrame({'A': [1, 2, 3, 4, 5], 'B': [1, 2, 3, 4, 5], 'C': [1, 2, 3, 4, 5]})\n",
    "\n",
    "# # Fonction pour standardiser chaque valeur du dataframe\n",
    "# def standardize(x):\n",
    "#   return (x - x.mean()) / x.std()\n",
    "\n",
    "# # Standardisation du dataframe\n",
    "# df_std = df.apply(standardize)\n",
    "\n",
    "# print(df_std)"
   ]
  },
  {
   "cell_type": "code",
   "execution_count": 64,
   "metadata": {},
   "outputs": [
    {
     "name": "stdout",
     "output_type": "stream",
     "text": [
      "correlation age et bmi: 0.1092718815485352\n",
      "correlation age et charges: 0.29900819333064754\n",
      "T-test entre age et enfant\n",
      "t-value: 98.8605910663168\n",
      "p-value: 0.0\n",
      "pointbiserialr test entre age et sex\n",
      "t-value: 0.020855872182863357\n",
      "p-value: 0.44591068123578387\n",
      "pointbiserialr entre age et fumeur\n",
      "t-value: 0.02501875153628508\n",
      "p-value: 0.36048529037855864\n",
      "T-test entre age et region nord ouest\n",
      "t-value: 97.45442439640905\n",
      "p-value: 0.0\n",
      "T-test entre age et region sud est\n",
      "t-value: 97.52678318077182\n",
      "p-value: 0.0\n",
      "T-test entre age et sud ouest\n",
      "t-value: 97.45442439640905\n",
      "p-value: 0.0\n"
     ]
    }
   ],
   "source": [
    "#L'age est une variable quantitative ,ce qui veut dire que nous allons faire soit des test de correlations ou des t-tests\n",
    "#Nous allons d'abord faire la correlation entre variable quantitative\n",
    "#Nous allons faire la correlation entre l'age et la bmi\n",
    "correlation_age_bmi = data['age'].corr(data['bmi'])\n",
    "print(\"correlation age et bmi:\",correlation_age_bmi)\n",
    "#Nous allons faire la correlation entre l'age et les charges\n",
    "correlation_age_charge = data['age'].corr(data['charges'])\n",
    "print(\"correlation age et charges:\",correlation_age_charge)\n",
    "\n",
    "#Maintenant nous allons faire la correlation entre age une variable quantitative et les variable qualitative (catégorie) ici nous allons faire un t-test\n",
    "# t-test entre age et enfant\n",
    "t_age_enfant, p_age_enfant = st.ttest_ind(data[\"age\"], data['children'])\n",
    "\n",
    "# On affiche la t-value et la p-value\n",
    "print(\"T-test entre age et enfant\")\n",
    "print(\"t-value:\", t_age_enfant)\n",
    "print(\"p-value:\", p_age_enfant)\n",
    "\n",
    "# t-test entre age et sex\n",
    "t_age_sex, p_age_sex = st.pointbiserialr(data[\"age\"], data['sex'])\n",
    "\n",
    "# On affiche la t-value et la p-value\n",
    "print(\"pointbiserialr test entre age et sex\")\n",
    "print(\"t-value:\", t_age_sex)\n",
    "print(\"p-value:\", p_age_sex)\n",
    "\n",
    "\n",
    "#t-test entre age et fumeur\n",
    "t_age_fumeur, p_age_fumeur = st.pointbiserialr(data[\"age\"], data['smoker'])\n",
    "\n",
    "# On affiche la t-value et la p-value\n",
    "print(\"pointbiserialr entre age et fumeur\")\n",
    "print(\"t-value:\", t_age_fumeur)\n",
    "print(\"p-value:\", p_age_fumeur)\n",
    "\n",
    "\n",
    "#t-test entre age et fumeur\n",
    "t_age_region_northwest, p_age_region_northwest = st.ttest_ind(data[\"age\"], data['region_northwest'])\n",
    "\n",
    "# On affiche la t-value et la p-value\n",
    "print(\"T-test entre age et region nord ouest\")\n",
    "print(\"t-value:\", t_age_region_northwest)\n",
    "print(\"p-value:\", p_age_region_northwest)\n",
    "\n",
    "\n",
    "#t-test entre age et fumeur\n",
    "t_age_region_southeast, p_age_region_southeast = st.ttest_ind(data[\"age\"], data['region_southeast'])\n",
    "\n",
    "# On affiche la t-value et la p-value\n",
    "print(\"T-test entre age et region sud est\")\n",
    "print(\"t-value:\", t_age_region_southeast)\n",
    "print(\"p-value:\", p_age_region_southeast)\n",
    "\n",
    "\n",
    "#t-test entre age et fumeur\n",
    "t_age_region_southwest, p_age_region_southwest = st.ttest_ind(data[\"age\"], data['region_southwest'])\n",
    "\n",
    "# On affiche la t-value et la p-value\n",
    "print(\"T-test entre age et sud ouest\")\n",
    "print(\"t-value:\", t_age_region_southwest)\n",
    "print(\"p-value:\", p_age_region_southwest)\n",
    "\n",
    "\n"
   ]
  },
  {
   "cell_type": "code",
   "execution_count": 65,
   "metadata": {},
   "outputs": [
    {
     "name": "stdout",
     "output_type": "stream",
     "text": [
      "correlation bmi et age: 0.1092718815485352\n",
      "correlation bmi et charge: 0.19834096883362895\n",
      "T-test entre bmi et enfant\n",
      "t-value: 173.99321893726827\n",
      "p-value: 0.0\n",
      "pointbiserialr entre bmi et sex\n",
      "t-value: -0.04637115064629447\n",
      "p-value: 0.08997637178988738\n",
      "pointbiserialr entre bmi et fumeur\n",
      "t-value: -0.003750425904980366\n",
      "p-value: 0.890985028001716\n",
      "T-test entre bmi et region nord ouest\n",
      "t-value: 172.9608471656253\n",
      "p-value: 0.0\n",
      "T-test entre bmi et region sud est\n",
      "t-value: 173.1024892571945\n",
      "p-value: 0.0\n",
      "T-test entre bmi et sud ouest\n",
      "t-value: 172.9608471656253\n",
      "p-value: 0.0\n"
     ]
    }
   ],
   "source": [
    "#La bmi est une variable quantitative ,ce qui veut dire que nous allons faire soit des test de correlations ou des t-tests\n",
    "#Nous allons d'abord faire la correlation entre variable quantitative\n",
    "#Nous allons faire la correlation entre l'age et la bmi\n",
    "correlation_bmi_age = data['bmi'].corr(data['age'])\n",
    "print(\"correlation bmi et age:\",correlation_age_bmi)\n",
    "#Nous allons faire la correlation entre l'age et les charges\n",
    "correlation_bmi_charge = data['bmi'].corr(data['charges'])\n",
    "print(\"correlation bmi et charge:\",correlation_bmi_charge)\n",
    "\n",
    "#Maintenant nous allons faire la correlation entre age une variable quantitative et les variable qualitative (catégorie) ici nous allons faire un t-test\n",
    "# t-test entre bmi et enfant\n",
    "t_bmi_enfant, p_bmi_enfant = st.ttest_ind(data[\"bmi\"], data['children'])\n",
    "\n",
    "# On affiche la t-value et la p-value\n",
    "print(\"T-test entre bmi et enfant\")\n",
    "print(\"t-value:\", t_bmi_enfant)\n",
    "print(\"p-value:\", p_bmi_enfant)\n",
    "\n",
    "# t-test entre bmi et sex\n",
    "t_bmi_sex, p_bmi_sex = st.pointbiserialr(data[\"bmi\"], data['sex'])\n",
    "\n",
    "# On affiche la t-value et la p-value\n",
    "print(\"pointbiserialr entre bmi et sex\")\n",
    "print(\"t-value:\", t_bmi_sex)\n",
    "print(\"p-value:\", p_bmi_sex)\n",
    "\n",
    "\n",
    "#t-test entre bmi et fumeur\n",
    "t_bmi_fumeur, p_bmi_fumeur = st.pointbiserialr(data[\"bmi\"], data['smoker'])\n",
    "\n",
    "# On affiche la t-value et la p-value\n",
    "print(\"pointbiserialr entre bmi et fumeur\")\n",
    "print(\"t-value:\", t_bmi_fumeur)\n",
    "print(\"p-value:\", p_bmi_fumeur)\n",
    "\n",
    "\n",
    "#t-test entre bmi et fumeur\n",
    "t_bmi_region_northwest, p_bmi_region_northwest = st.ttest_ind(data[\"bmi\"], data['region_northwest'])\n",
    "\n",
    "# On affiche la t-value et la p-value\n",
    "print(\"T-test entre bmi et region nord ouest\")\n",
    "print(\"t-value:\", t_bmi_region_northwest)\n",
    "print(\"p-value:\", p_bmi_region_northwest)\n",
    "\n",
    "\n",
    "#t-test entre bmi et fumeur\n",
    "t_bmi_region_southeast, p_bmi_region_southeast = st.ttest_ind(data[\"bmi\"], data['region_southeast'])\n",
    "\n",
    "# On affiche la t-value et la p-value\n",
    "print(\"T-test entre bmi et region sud est\")\n",
    "print(\"t-value:\", t_bmi_region_southeast)\n",
    "print(\"p-value:\", p_bmi_region_southeast)\n",
    "\n",
    "\n",
    "#t-test entre bmi et fumeur\n",
    "t_bmi_region_southwest, p_bmi_region_southwest = st.ttest_ind(data[\"bmi\"], data['region_southwest'])\n",
    "\n",
    "# On affiche la t-value et la p-value\n",
    "print(\"T-test entre bmi et sud ouest\")\n",
    "print(\"t-value:\", t_bmi_region_southwest)\n",
    "print(\"p-value:\", p_bmi_region_southwest)\n"
   ]
  },
  {
   "cell_type": "code",
   "execution_count": 78,
   "metadata": {},
   "outputs": [
    {
     "data": {
      "text/plain": [
       "Text(0.5, 1.0, 'Scatterplot')"
      ]
     },
     "execution_count": 78,
     "metadata": {},
     "output_type": "execute_result"
    },
    {
     "data": {
      "image/png": "[encoded data removed]",
      "text/plain": [
       "<Figure size 640x480 with 1 Axes>"
      ]
     },
     "metadata": {},
     "output_type": "display_data"
    }
   ],
   "source": [
    "# Scatterplot\n",
    "plt.figure()\n",
    "plt.scatter(data[\"bmi\"], data[\"charges\"])\n",
    "plt.xlabel('Variable 1')\n",
    "plt.ylabel('Variable 2')\n",
    "plt.title('Scatterplot')\n"
   ]
  },
  {
   "cell_type": "code",
   "execution_count": 81,
   "metadata": {},
   "outputs": [
    {
     "data": {
      "text/plain": [
       "<AxesSubplot: xlabel='bmi', ylabel='charges'>"
      ]
     },
     "execution_count": 81,
     "metadata": {},
     "output_type": "execute_result"
    },
    {
     "data": {
      "image/png": "[encoded data removed]",
      "text/plain": [
       "<Figure size 640x480 with 1 Axes>"
      ]
     },
     "metadata": {},
     "output_type": "display_data"
    }
   ],
   "source": [
    "sns.scatterplot(x = data[\"bmi\"], y = data[\"charges\"],hue = data[\"smoker\"])"
   ]
  },
  {
   "cell_type": "code",
   "execution_count": 67,
   "metadata": {},
   "outputs": [
    {
     "name": "stdout",
     "output_type": "stream",
     "text": [
      "correlation charge et age: 0.2990081933306476\n",
      "correlation charge et bmi: 0.19834096883362895\n",
      "T-test entre charge et enfant\n",
      "t-value: 40.08043408868691\n",
      "p-value: 1.642422871191252e-275\n",
      "pointbiserialr entre charge et sex\n",
      "t-value: -0.05729206220202536\n",
      "p-value: 0.03613272100594507\n",
      "pointbiserialr entre charge et fumeur\n",
      "t-value: -0.7872514304984773\n",
      "p-value: 8.27143584217778e-283\n",
      "T-test entre bmi et region nord ouest\n",
      "t-value: 40.07843411878885\n",
      "p-value: 1.7268159295586342e-275\n",
      "T-test entre bmi et region sud est\n",
      "t-value: 40.07852215928208\n",
      "p-value: 1.7230112386342267e-275\n",
      "T-test entre charge et sud ouest\n",
      "t-value: 40.07843411878885\n",
      "p-value: 1.7268159295586342e-275\n"
     ]
    }
   ],
   "source": [
    "#La charge est une variable quantitative ,ce qui veut dire que nous allons faire soit des test de correlations ou des t-tests\n",
    "#Nous allons d'abord faire la correlation entre variable quantitative\n",
    "#Nous allons faire la correlation entre la charge et l'age\n",
    "correlation_charge_age = data['charges'].corr(data['age'])\n",
    "print(\"correlation charge et age:\",correlation_charge_age)\n",
    "#Nous allons faire la correlation entre la charge et la bmi\n",
    "correlation_charge_bmi = data['charges'].corr(data['bmi'])\n",
    "print(\"correlation charge et bmi:\",correlation_charge_bmi)\n",
    "\n",
    "#Maintenant nous allons faire la correlation entre la charge une variable quantitative et les variable qualitative (catégorie) ici nous allons faire un t-test\n",
    "# t-test entre age et enfant\n",
    "t_charge_enfant, p_charge_enfant = st.ttest_ind(data[\"charges\"], data['children'])\n",
    "\n",
    "# On affiche la t-value et la p-value\n",
    "print(\"T-test entre charge et enfant\")\n",
    "print(\"t-value:\", t_charge_enfant)\n",
    "print(\"p-value:\", p_charge_enfant)\n",
    "\n",
    "# t-test entre charge et sex\n",
    "t_charge_sex, p_charge_sex = st.pointbiserialr(data[\"charges\"], data['sex'])\n",
    "\n",
    "# On affiche la t-value et la p-value\n",
    "print(\"pointbiserialr entre charge et sex\")\n",
    "print(\"t-value:\", t_charge_sex)\n",
    "print(\"p-value:\", p_charge_sex)\n",
    "\n",
    "\n",
    "#t-test entre charge et fumeur\n",
    "t_charge_fumeur, p_charge_fumeur = st.pointbiserialr(data[\"charges\"], data['smoker'])\n",
    "\n",
    "# On affiche la t-value et la p-value\n",
    "print(\"pointbiserialr entre charge et fumeur\")\n",
    "print(\"t-value:\", t_charge_fumeur)\n",
    "print(\"p-value:\", p_charge_fumeur)\n",
    "\n",
    "\n",
    "#t-test entre charge et fumeur\n",
    "t_charge_region_northwest, p_charge_region_northwest = st.ttest_ind(data[\"charges\"], data['region_northwest'])\n",
    "\n",
    "# On affiche la t-value et la p-value\n",
    "print(\"T-test entre bmi et region nord ouest\")\n",
    "print(\"t-value:\", t_charge_region_northwest)\n",
    "print(\"p-value:\", p_charge_region_northwest)\n",
    "\n",
    "\n",
    "#t-test entre age et fumeur\n",
    "t_charge_region_southeast, p_charge_region_southeast = st.ttest_ind(data[\"charges\"], data['region_southeast'])\n",
    "\n",
    "# On affiche la t-value et la p-value\n",
    "print(\"T-test entre bmi et region sud est\")\n",
    "print(\"t-value:\", t_charge_region_southeast)\n",
    "print(\"p-value:\", p_charge_region_southeast)\n",
    "\n",
    "\n",
    "#t-test entre age et fumeur\n",
    "t_charge_region_southwest, p_charge_region_southwest = st.ttest_ind(data[\"charges\"], data['region_southwest'])\n",
    "\n",
    "# On affiche la t-value et la p-value\n",
    "print(\"T-test entre charge et sud ouest\")\n",
    "print(\"t-value:\", t_charge_region_southwest)\n",
    "print(\"p-value:\", p_charge_region_southwest)"
   ]
  },
  {
   "cell_type": "code",
   "execution_count": 68,
   "metadata": {},
   "outputs": [
    {
     "name": "stdout",
     "output_type": "stream",
     "text": [
      "pointbiserialr entre age et sex\n",
      "t-value: 0.020855872182863357\n",
      "p-value: 0.44591068123578387\n",
      "pointbiserialr entre bmi et sex\n",
      "t-value: -0.04637115064629447\n",
      "p-value: 0.08997637178988738\n",
      "Test du chi-deux entre genre et enfant\n",
      "chi-square value: 1063.637923208191\n",
      "p-value: 0.9999999934109498\n",
      "Test du chi-deux entre genre et fumeur\n",
      "chi-square value: 175.41811171246184\n",
      "p-value: 1.0\n",
      "pointbiserialr entre genre et charge\n",
      "t-value: -0.05729206220202536\n",
      "p-value: 0.03613272100594507\n",
      "Test du chi-deux entre genre et et region nord ouest\n",
      "chi-square value: 199.31488065362254\n",
      "p-value: 1.0\n",
      "Test du chi-deux entre genre et et region sud est\n",
      "chi-square value: 199.1340784313726\n",
      "p-value: 1.0\n",
      "Test du chi-deux entre genre et et region sud est\n",
      "chi-square value: 199.1340784313726\n",
      "p-value: 1.0\n"
     ]
    }
   ],
   "source": [
    "#Sex/Genre est une qualitative ici une catégorie , ce qui veut dire que l'on va faire des t-test et des test de chi square\n",
    "# t-test entre age et sex\n",
    "t_sex_age, p_sex_age = st.pointbiserialr(data[\"sex\"], data['age'])\n",
    "\n",
    "# On affiche la t-value et la p-value\n",
    "print(\"pointbiserialr entre age et sex\")\n",
    "print(\"t-value:\", t_sex_age)\n",
    "print(\"p-value:\", p_sex_age)\n",
    "\n",
    "\n",
    "# t-test entre bmi et sex\n",
    "t_sex_bmi, p_sex_bmi = st.pointbiserialr(data[\"sex\"], data['bmi'])\n",
    "\n",
    "# On affiche la t-value et la p-value\n",
    "print(\"pointbiserialr entre bmi et sex\")\n",
    "print(\"t-value:\", t_sex_bmi)\n",
    "print(\"p-value:\", p_sex_bmi)\n",
    "\n",
    "#Test du chi-deux entre genre et enfant\n",
    "df_subset_1 = data.loc[:, ['sex', 'children']]\n",
    "\n",
    "\n",
    "chi2_1, p_1, dof_1, expected_1 = st.chi2_contingency(df_subset_1)\n",
    "\n",
    "# Print chi-square value and p-value\n",
    "print(\"Test du chi-deux entre genre et enfant\")\n",
    "print(\"chi-square value:\", chi2_1)\n",
    "print(\"p-value:\", p_1)\n",
    "\n",
    "\n",
    "#Test du chi-deux entre genre et enfant\n",
    "df_subset_2 = data.loc[:, ['sex', 'smoker']]\n",
    "\n",
    "\n",
    "chi2_2, p_2, dof_2, expected_2 = st.chi2_contingency(df_subset_2)\n",
    "\n",
    "# Print chi-square value and p-value\n",
    "print(\"Test du chi-deux entre genre et fumeur\")\n",
    "print(\"chi-square value:\", chi2_2)\n",
    "print(\"p-value:\", p_2)\n",
    "\n",
    "\n",
    "# t-test entre sex et charge\n",
    "t_sex_charge, p_sex_charge = st.pointbiserialr(data[\"sex\"], data['charges'])\n",
    "\n",
    "# On affiche la t-value et la p-value\n",
    "print(\"pointbiserialr entre genre et charge\")\n",
    "print(\"t-value:\", t_sex_charge)\n",
    "print(\"p-value:\", p_sex_charge)\n",
    "\n",
    "\n",
    "#Test du chi-deux entre genre et region nord ouest\n",
    "df_subset_3 = data.loc[:, ['sex', 'region_northwest']]\n",
    "\n",
    "\n",
    "chi2_3, p_3, dof_3, expected_3 = st.chi2_contingency(df_subset_3)\n",
    "\n",
    "# Print chi-square value and p-value\n",
    "print(\"Test du chi-deux entre genre et et region nord ouest\")\n",
    "print(\"chi-square value:\", chi2_3)\n",
    "print(\"p-value:\", p_3)\n",
    "\n",
    "#Test du chi-deux entre genre et region sud est\n",
    "df_subset_4 = data.loc[:, ['sex', 'region_southeast']]\n",
    "\n",
    "\n",
    "chi2_4, p_4, dof_4, expected_4 = st.chi2_contingency(df_subset_4)\n",
    "\n",
    "# Print chi-square value and p-value\n",
    "print(\"Test du chi-deux entre genre et et region sud est\")\n",
    "print(\"chi-square value:\", chi2_4)\n",
    "print(\"p-value:\", p_4)\n",
    "\n",
    "\n",
    "#Test du chi-deux entre genre et region sud ouest\n",
    "df_subset_5 = data.loc[:, ['sex', 'region_southeast']]\n",
    "\n",
    "\n",
    "chi2_5, p_5, dof_5, expected_5 = st.chi2_contingency(df_subset_5)\n",
    "\n",
    "# Print chi-square value and p-value\n",
    "print(\"Test du chi-deux entre genre et et region sud est\")\n",
    "print(\"chi-square value:\", chi2_5)\n",
    "print(\"p-value:\", p_5)\n",
    "\n",
    "\n"
   ]
  },
  {
   "cell_type": "code",
   "execution_count": 69,
   "metadata": {},
   "outputs": [
    {
     "name": "stdout",
     "output_type": "stream",
     "text": [
      "T-test entre le nombre d'enfant et l'age\n",
      "t-value: -98.8605910663168\n",
      "p-value: 0.0\n",
      "T-test entre le nombre d'enfant et la  bmi\n",
      "t-value: -173.99321893726827\n",
      "p-value: 0.0\n",
      "Test du chi-deux entre nombre d'enfant et le genre\n",
      "chi-square value: 1063.637923208191\n",
      "p-value: 0.9999999934109498\n",
      "Test du chi-deux entre nombre d'enfant et fumeur\n",
      "chi-square value: 1082.7182334341892\n",
      "p-value: 0.999999926373241\n",
      "T-test entre nombre d'enfants et charge\n",
      "t-value: 0       0\n",
      "1       1\n",
      "2       3\n",
      "3       0\n",
      "4       0\n",
      "       ..\n",
      "1333    3\n",
      "1334    0\n",
      "1335    0\n",
      "1336    0\n",
      "1337    0\n",
      "Name: children, Length: 1338, dtype: int64\n",
      "p-value: 0       16884.92400\n",
      "1        1725.55230\n",
      "2        4449.46200\n",
      "3       21984.47061\n",
      "4        3866.85520\n",
      "           ...     \n",
      "1333    10600.54830\n",
      "1334     2205.98080\n",
      "1335     1629.83350\n",
      "1336     2007.94500\n",
      "1337    29141.36030\n",
      "Name: charges, Length: 1338, dtype: float64\n",
      "Test du chi-deux entre genre et et region nord ouest\n",
      "chi-square value: 1090.6040109906862\n",
      "p-value: 0.9999998119337723\n",
      "Test du chi-deux entre nombre d'enfants et et region sud est\n",
      "chi-square value: 1066.1703737036873\n",
      "p-value: 0.9999999908135851\n",
      "Test du chi-deux entre nombre d'enfants et et region sud est\n",
      "chi-square value: 1066.1703737036873\n",
      "p-value: 0.9999999908135851\n"
     ]
    }
   ],
   "source": [
    "#Children est une variable qualitative ici une catégorie , ce qui veut dire que l'on va faire des t-test et des test de chi square\n",
    "# t-test entre age et sex\n",
    "t_children_age, p_children_age = st.ttest_ind(data[\"children\"], data['age'])\n",
    "\n",
    "# On affiche la t-value et la p-value\n",
    "print(\"T-test entre le nombre d'enfant et l'age\")\n",
    "print(\"t-value:\", t_children_age)\n",
    "print(\"p-value:\", p_children_age)\n",
    "\n",
    "\n",
    "# t-test entre bmi et sex\n",
    "t_children_bmi, p_children_bmi = st.ttest_ind(data[\"children\"], data['bmi'])\n",
    "\n",
    "# On affiche la t-value et la p-value\n",
    "print(\"T-test entre le nombre d'enfant et la  bmi\")\n",
    "print(\"t-value:\", t_children_bmi)\n",
    "print(\"p-value:\", p_children_bmi)\n",
    "\n",
    "#Test du chi-deux entre genre et enfant\n",
    "df_subset_1_1 = data.loc[:, ['children', 'sex']]\n",
    "\n",
    "\n",
    "chi2_1_1, p_1_1, dof_1_1, expected_1_1 = st.chi2_contingency(df_subset_1_1)\n",
    "\n",
    "# Print chi-square value and p-value\n",
    "print(\"Test du chi-deux entre nombre d'enfant et le genre\")\n",
    "print(\"chi-square value:\", chi2_1_1)\n",
    "print(\"p-value:\", p_1_1)\n",
    "\n",
    "\n",
    "#Test du chi-deux entre nombre d'enfant et fumer\n",
    "df_subset_2_1 = data.loc[:, ['children', 'smoker']]\n",
    "\n",
    "\n",
    "chi2_2_1, p_2_1, dof_2_1, expected_2_1 = st.chi2_contingency(df_subset_2_1)\n",
    "\n",
    "# Print chi-square value and p-value\n",
    "print(\"Test du chi-deux entre nombre d'enfant et fumeur\")\n",
    "print(\"chi-square value:\", chi2_2_1)\n",
    "print(\"p-value:\", p_2_1)\n",
    "\n",
    "\n",
    "# t-test entre nombre d'enfant et charge\n",
    "t_children_charge, p_children_charge = st.ttest_ind=(data[\"children\"], data['charges'])\n",
    "\n",
    "# On affiche la t-value et la p-value\n",
    "print(\"T-test entre nombre d'enfants et charge\")\n",
    "print(\"t-value:\", t_children_charge)\n",
    "print(\"p-value:\", p_children_charge)\n",
    "\n",
    "\n",
    "#Test du chi-deux entre genre et region nord ouest\n",
    "df_subset_3_1 = data.loc[:, ['children', 'region_northwest']]\n",
    "\n",
    "\n",
    "chi2_3_1, p_3_1, dof_3_1, expected_3_1 = st.chi2_contingency(df_subset_3_1)\n",
    "\n",
    "# Print chi-square value and p-value\n",
    "print(\"Test du chi-deux entre genre et et region nord ouest\")\n",
    "print(\"chi-square value:\", chi2_3_1)\n",
    "print(\"p-value:\", p_3_1)\n",
    "\n",
    "#Test du chi-deux entre nombre d'enfant et region sud est\n",
    "df_subset_4_1 = data.loc[:, ['children', 'region_southeast']]\n",
    "\n",
    "\n",
    "chi2_4_1, p_4_1, dof_4_1, expected_4_1 = st.chi2_contingency(df_subset_4_1)\n",
    "\n",
    "# Print chi-square value and p-value\n",
    "print(\"Test du chi-deux entre nombre d'enfants et et region sud est\")\n",
    "print(\"chi-square value:\", chi2_4_1)\n",
    "print(\"p-value:\", p_4_1)\n",
    "\n",
    "\n",
    "#Test du chi-deux entre nombre d'enfant et region sud ouest\n",
    "df_subset_5_1 = data.loc[:, ['children', 'region_southeast']]\n",
    "\n",
    "\n",
    "chi2_5_1, p_5_1, dof_5_1, expected_5_1 = st.chi2_contingency(df_subset_5_1)\n",
    "\n",
    "# Print chi-square value and p-value\n",
    "print(\"Test du chi-deux entre nombre d'enfants et et region sud est\")\n",
    "print(\"chi-square value:\", chi2_5_1)\n",
    "print(\"p-value:\", p_5_1)\n",
    "\n"
   ]
  },
  {
   "cell_type": "code",
   "execution_count": 70,
   "metadata": {},
   "outputs": [
    {
     "data": {
      "text/plain": [
       "age                   int64\n",
       "sex                   int64\n",
       "bmi                 float64\n",
       "children              int64\n",
       "smoker                int64\n",
       "charges             float64\n",
       "region_northwest      uint8\n",
       "region_southeast      uint8\n",
       "region_southwest      uint8\n",
       "dtype: object"
      ]
     },
     "execution_count": 70,
     "metadata": {},
     "output_type": "execute_result"
    }
   ],
   "source": [
    "data.dtypes"
   ]
  },
  {
   "cell_type": "code",
   "execution_count": 71,
   "metadata": {},
   "outputs": [
    {
     "name": "stdout",
     "output_type": "stream",
     "text": [
      "pointbiserialr entre les fumeur et l'age\n",
      "t-value: 0.02501875153628508\n",
      "p-value: 0.36048529037855864\n",
      "pointbiserialr entre le nombre d'enfant et la  bmi\n",
      "t-value: -173.99321893726827\n",
      "p-value: 0.0\n",
      "Test du chi-deux entre nombre d'enfant et le genre\n",
      "chi-square value: 1063.637923208191\n",
      "p-value: 0.9999999934109498\n",
      "Test du chi-deux entre fumeur et nombre d'enfant\n",
      "chi-square value: 1082.7182334341892\n",
      "p-value: 0.999999926373241\n",
      "pointbiserialr entre nombre d'enfants et charge\n",
      "t-value: -0.7872514304984773\n",
      "p-value: 8.27143584217778e-283\n",
      "Test du chi-deux entre genre et et region nord ouest\n",
      "chi-square value: 160.47124241779233\n",
      "p-value: 1.0\n",
      "Test du chi-deux entre nombre d'enfants et et region sud est\n",
      "chi-square value: 150.33651275321316\n",
      "p-value: 1.0\n",
      "Test du chi-deux entre nombre d'enfants et et region sud est\n",
      "chi-square value: 150.33651275321316\n",
      "p-value: 1.0\n"
     ]
    }
   ],
   "source": [
    "#Smoker est une variable qualitative ici une catégorie , ce qui veut dire que l'on va faire des t-test et des test de chi square\n",
    "# t-test entre age et sex\n",
    "t_smoker_age, p_smoker_age = st.pointbiserialr(data[\"smoker\"], data['age'])\n",
    "\n",
    "# On affiche la t-value et la p-value\n",
    "print(\"pointbiserialr entre les fumeur et l'age\")\n",
    "print(\"t-value:\", t_smoker_age)\n",
    "print(\"p-value:\", p_smoker_age)\n",
    "\n",
    "\n",
    "# t-test entre bmi et sex\n",
    "t_smoker_bmi, p_smoker_bmi = st.pointbiserialr(data[\"smoker\"], data['bmi'])\n",
    "\n",
    "# On affiche la t-value et la p-value\n",
    "print(\"pointbiserialr entre le nombre d'enfant et la  bmi\")\n",
    "print(\"t-value:\", t_children_bmi)\n",
    "print(\"p-value:\", p_children_bmi)\n",
    "\n",
    "#Test du chi-deux entre genre et enfant\n",
    "df_subset_1_2 = data.loc[:, ['children', 'sex']]\n",
    "\n",
    "\n",
    "chi2_1_2, p_1_2, dof_1_2, expected_1_2 = st.chi2_contingency(df_subset_1_2)\n",
    "\n",
    "# Print chi-square value and p-value\n",
    "print(\"Test du chi-deux entre nombre d'enfant et le genre\")\n",
    "print(\"chi-square value:\", chi2_1_2)\n",
    "print(\"p-value:\", p_1_2)\n",
    "\n",
    "\n",
    "#Test du chi-deux entre nombre d'enfant et fumer\n",
    "df_subset_2_2 = data.loc[:, ['smoker','children']]\n",
    "\n",
    "\n",
    "chi2_2_2, p_2_2, dof_2_2, expected_2_2 = st.chi2_contingency(df_subset_2_2)\n",
    "\n",
    "# Print chi-square value and p-value\n",
    "print(\"Test du chi-deux entre fumeur et nombre d'enfant\")\n",
    "print(\"chi-square value:\", chi2_2_2)\n",
    "print(\"p-value:\", p_2_2)\n",
    "\n",
    "\n",
    "# t-test entre nombre d'enfant et charge\n",
    "t_smoker_charge, p_smoker_charge = st.pointbiserialr(data[\"smoker\"], data['charges'])\n",
    "\n",
    "# On affiche la t-value et la p-value\n",
    "print(\"pointbiserialr entre nombre d'enfants et charge\")\n",
    "print(\"t-value:\", t_smoker_charge)\n",
    "print(\"p-value:\", p_smoker_charge)\n",
    "\n",
    "\n",
    "#Test du chi-deux entre genre et region nord ouest\n",
    "df_subset_3_2 = data.loc[:, ['smoker', 'region_northwest']]\n",
    "\n",
    "\n",
    "chi2_3_2, p_3_2, dof_3_2, expected_3_2 = st.chi2_contingency(df_subset_3_2)\n",
    "\n",
    "# Print chi-square value and p-value\n",
    "print(\"Test du chi-deux entre genre et et region nord ouest\")\n",
    "print(\"chi-square value:\", chi2_3_2)\n",
    "print(\"p-value:\", p_3_2)\n",
    "\n",
    "#Test du chi-deux entre nombre d'enfant et region sud est\n",
    "df_subset_4_2 = data.loc[:, ['smoker', 'region_southeast']]\n",
    "\n",
    "\n",
    "chi2_4_2, p_4_2, dof_4_2, expected_4_2 = st.chi2_contingency(df_subset_4_2)\n",
    "\n",
    "# Print chi-square value and p-value\n",
    "print(\"Test du chi-deux entre nombre d'enfants et et region sud est\")\n",
    "print(\"chi-square value:\", chi2_4_2)\n",
    "print(\"p-value:\", p_4_2)\n",
    "\n",
    "\n",
    "#Test du chi-deux entre nombre d'enfant et region sud ouest\n",
    "df_subset_5_2 = data.loc[:, ['smoker', 'region_southeast']]\n",
    "\n",
    "\n",
    "chi2_5_2, p_5_2, dof_5_2, expected_5_2 = st.chi2_contingency(df_subset_5_2)\n",
    "\n",
    "# Print chi-square value and p-value\n",
    "print(\"Test du chi-deux entre nombre d'enfants et et region sud est\")\n",
    "print(\"chi-square value:\", chi2_5_2)\n",
    "print(\"p-value:\", p_5_2)"
   ]
  },
  {
   "cell_type": "code",
   "execution_count": 72,
   "metadata": {},
   "outputs": [
    {
     "name": "stdout",
     "output_type": "stream",
     "text": [
      "pointbiserialr entre les habitants de la region nord ouest et l'age\n",
      "t-value: 0.000407423373278495\n",
      "p-value: 0.9881206703187126\n",
      "pointbiserialr entre le nombre d'enfant et la  bmi\n",
      "t-value: 0.1359955237113306\n",
      "p-value: 5.941730745524137e-07\n",
      "Test du chi-deux entre region_northwest et le genre\n",
      "chi-square value: 199.31488065362254\n",
      "p-value: 1.0\n",
      "Test du chi-deux entre region_northwest et nombre d'enfant\n",
      "chi-square value: 1090.6040109906862\n",
      "p-value: 0.9999998119337723\n",
      "pointbiserialr entre nombre d'enfants et charge\n",
      "t-value: 0.039904864040437985\n",
      "p-value: 0.14459698799369963\n",
      "Test du chi-deux entre region_northwest et les fumer\n",
      "chi-square value: 160.47124241779233\n",
      "p-value: 1.0\n",
      "Test du chi-deux entre region_northwest et et region sud est\n",
      "chi-square value: 229.35652569006683\n",
      "p-value: 1.0\n",
      "Test du chi-deux entre region_northwest et region sud est\n",
      "chi-square value: 229.35652569006683\n",
      "p-value: 1.0\n"
     ]
    }
   ],
   "source": [
    "#Les region sont des variables qualitative ici une catégorie , ce qui veut dire que l'on va faire des t-test et des test de chi square\n",
    "# t-test entre region et sex\n",
    "t_region_northwest_age, p_region_northwest_age = st.pointbiserialr(data[\"region_northwest\"], data['age'])\n",
    "\n",
    "# On affiche la t-value et la p-value\n",
    "print(\"pointbiserialr entre les habitants de la region nord ouest et l'age\")\n",
    "print(\"t-value:\", t_region_northwest_age)\n",
    "print(\"p-value:\", p_region_northwest_age)\n",
    "\n",
    "\n",
    "# t-test entre region_northwest et sex\n",
    "t_region_northwest_bmi, p_region_northwest_bmi = st.pointbiserialr(data[\"region_northwest\"], data['bmi'])\n",
    "\n",
    "# On affiche la t-value et la p-value\n",
    "print(\"pointbiserialr entre le nombre d'enfant et la  bmi\")\n",
    "print(\"t-value:\", t_region_northwest_bmi)\n",
    "print(\"p-value:\", p_region_northwest_bmi)\n",
    "\n",
    "#Test du chi-deux entre region_northwest et enfant\n",
    "df_subset_1_3 = data.loc[:, ['region_northwest', 'sex']]\n",
    "\n",
    "\n",
    "chi2_1_3, p_1_3, dof_1_3, expected_1_3 = st.chi2_contingency(df_subset_1_3)\n",
    "\n",
    "# Print chi-square value and p-value\n",
    "print(\"Test du chi-deux entre region_northwest et le genre\")\n",
    "print(\"chi-square value:\", chi2_1_3)\n",
    "print(\"p-value:\", p_1_3)\n",
    "\n",
    "\n",
    "#Test du chi-deux entre nombre d'enfant et fumer\n",
    "df_subset_2_3 = data.loc[:, ['region_northwest','children']]\n",
    "\n",
    "\n",
    "chi2_2_3, p_2_3, dof_2_3, expected_2_3 = st.chi2_contingency(df_subset_2_3)\n",
    "\n",
    "# Print chi-square value and p-value\n",
    "print(\"Test du chi-deux entre region_northwest et nombre d'enfant\")\n",
    "print(\"chi-square value:\", chi2_2_3)\n",
    "print(\"p-value:\", p_2_3)\n",
    "\n",
    "\n",
    "# t-test entre region_northwest et charge\n",
    "t_region_northwest_charge, p_region_northwest_charge = st.pointbiserialr(data[\"region_northwest\"], data['charges'])\n",
    "\n",
    "# On affiche la t-value et la p-value\n",
    "print(\"pointbiserialr entre nombre d'enfants et charge\")\n",
    "print(\"t-value:\", t_region_northwest_charge)\n",
    "print(\"p-value:\", p_region_northwest_charge)\n",
    "\n",
    "\n",
    "#Test du chi-deux entre region_northwest et region nord ouest\n",
    "df_subset_3_3 = data.loc[:, ['region_northwest', 'smoker']]\n",
    "\n",
    "\n",
    "chi2_3_3, p_3_3, dof_3_3, expected_3_3 = st.chi2_contingency(df_subset_3_3)\n",
    "\n",
    "# Print chi-square value and p-value\n",
    "print(\"Test du chi-deux entre region_northwest et les fumer\")\n",
    "print(\"chi-square value:\", chi2_3_3)\n",
    "print(\"p-value:\", p_3_3)\n",
    "\n",
    "#Test du chi-deux entre region_northwest et region sud est\n",
    "df_subset_4_3 = data.loc[:, ['region_northwest', 'region_southeast']]\n",
    "\n",
    "\n",
    "chi2_4_3, p_4_3, dof_4_3, expected_4_3 = st.chi2_contingency(df_subset_4_3)\n",
    "\n",
    "# Print chi-square value and p-value\n",
    "print(\"Test du chi-deux entre region_northwest et et region sud est\")\n",
    "print(\"chi-square value:\", chi2_4_3)\n",
    "print(\"p-value:\", p_4_3)\n",
    "\n",
    "\n",
    "#Test du chi-deux entre nombre d'enfant et region sud ouest\n",
    "df_subset_5_3 = data.loc[:, ['region_northwest', 'region_southeast']]\n",
    "\n",
    "\n",
    "chi2_5_3, p_5_3, dof_5_3, expected_5_3 = st.chi2_contingency(df_subset_5_3)\n",
    "\n",
    "# Print chi-square value and p-value\n",
    "print(\"Test du chi-deux entre region_northwest et region sud est\")\n",
    "print(\"chi-square value:\", chi2_5_3)\n",
    "print(\"p-value:\", p_5_3)"
   ]
  },
  {
   "cell_type": "code",
   "execution_count": 73,
   "metadata": {},
   "outputs": [
    {
     "name": "stdout",
     "output_type": "stream",
     "text": [
      "pointbiserialr entreregion_southeast et l'age\n",
      "t-value: 0.011641940617229146\n",
      "p-value: 0.6704990026067668\n",
      "pointbiserialr entre region_southeast  la  bmi\n",
      "t-value: -0.27002464902846685\n",
      "p-value: 8.707820869271749e-24\n",
      "Test du chi-deux entre region_southeast et le genre\n",
      "chi-square value: 199.1340784313726\n",
      "p-value: 1.0\n",
      "Test du chi-deux entre region_southeast et nombre d'enfant\n",
      "chi-square value: 1066.1703737036873\n",
      "p-value: 0.9999999908135851\n",
      "pointbiserialr entre nombre d'enfants et charge\n",
      "t-value: -0.07398155156575978\n",
      "p-value: 0.006782698910660704\n",
      "Test du chi-deux entre region_southeast et les fumeurs\n",
      "chi-square value: 150.33651275321316\n",
      "p-value: 1.0\n",
      "Test du chi-deux entre region_northwest et et region sud est\n",
      "chi-square value: 229.35652569006683\n",
      "p-value: 1.0\n",
      "Test du chi-deux entre region_southeast et region sud ouest\n",
      "chi-square value: 229.35652569006683\n",
      "p-value: 1.0\n"
     ]
    }
   ],
   "source": [
    "#Les region sont des variables qualitative ici une catégorie , ce qui veut dire que l'on va faire des t-test et des test de chi square\n",
    "# t-test entre region_southeast et sex\n",
    "t_region_southeast_age, p_region_southeast_age = st.pointbiserialr(data[\"region_southeast\"], data['age'])\n",
    "\n",
    "# On affiche la t-value et la p-value\n",
    "print(\"pointbiserialr entreregion_southeast et l'age\")\n",
    "print(\"t-value:\", t_region_southeast_age)\n",
    "print(\"p-value:\", p_region_southeast_age)\n",
    "\n",
    "\n",
    "# t-test entre region_northwest et sex\n",
    "t_region_southeast_bmi, p_region_southeast_bmi = st.pointbiserialr(data[\"region_southeast\"], data['bmi'])\n",
    "\n",
    "# On affiche la t-value et la p-value\n",
    "print(\"pointbiserialr entre region_southeast  la  bmi\")\n",
    "print(\"t-value:\", t_region_southeast_bmi)\n",
    "print(\"p-value:\", p_region_southeast_bmi)\n",
    "\n",
    "#Test du chi-deux entre region_southeast et enfant\n",
    "df_subset_1_4 = data.loc[:, ['region_southeast', 'sex']]\n",
    "\n",
    "\n",
    "chi2_1_4, p_1_4, dof_1_4, expected_1_4 = st.chi2_contingency(df_subset_1_4)\n",
    "\n",
    "# Print chi-square value and p-value\n",
    "print(\"Test du chi-deux entre region_southeast et le genre\")\n",
    "print(\"chi-square value:\", chi2_1_4)\n",
    "print(\"p-value:\", p_1_4)\n",
    "\n",
    "\n",
    "#Test du chi-deux entre nombre d'enfant et fumer\n",
    "df_subset_2_4 = data.loc[:, ['region_southeast','children']]\n",
    "\n",
    "\n",
    "chi2_2_4, p_2_4, dof_2_4, expected_2_4 = st.chi2_contingency(df_subset_2_4)\n",
    "\n",
    "# Print chi-square value and p-value\n",
    "print(\"Test du chi-deux entre region_southeast et nombre d'enfant\")\n",
    "print(\"chi-square value:\", chi2_2_4)\n",
    "print(\"p-value:\", p_2_4)\n",
    "\n",
    "\n",
    "# t-test entre region_northwest et charge\n",
    "t_region_southeast_charge, p_region_southeast_charge = st.pointbiserialr(data[\"region_southeast\"], data['charges'])\n",
    "\n",
    "# On affiche la t-value et la p-value\n",
    "print(\"pointbiserialr entre nombre d'enfants et charge\")\n",
    "print(\"t-value:\", t_region_southeast_charge)\n",
    "print(\"p-value:\", p_region_southeast_charge)\n",
    "\n",
    "\n",
    "#Test du chi-deux entre region_northwest et region nord ouest\n",
    "df_subset_3_4 = data.loc[:, ['region_southeast', 'smoker']]\n",
    "\n",
    "\n",
    "chi2_3_4, p_3_4, dof_3_4, expected_3_4 = st.chi2_contingency(df_subset_3_4)\n",
    "\n",
    "# Print chi-square value and p-value\n",
    "print(\"Test du chi-deux entre region_southeast et les fumeurs\")\n",
    "print(\"chi-square value:\", chi2_3_4)\n",
    "print(\"p-value:\", p_3_4)\n",
    "\n",
    "#Test du chi-deux entre region_northwest et region sud est\n",
    "df_subset_4_4 = data.loc[:, [ 'region_southeast','region_northwest']]\n",
    "\n",
    "\n",
    "chi2_4_4, p_4_4, dof_4_4, expected_4_4 = st.chi2_contingency(df_subset_4_4)\n",
    "\n",
    "# Print chi-square value and p-value\n",
    "print(\"Test du chi-deux entre region_northwest et et region sud est\")\n",
    "print(\"chi-square value:\", chi2_4_4)\n",
    "print(\"p-value:\", p_4_4)\n",
    "\n",
    "\n",
    "#Test du chi-deux entre region_southeastet region sud ouest\n",
    "df_subset_5_4 = data.loc[:, ['region_southeast', 'region_southwest']]\n",
    "\n",
    "\n",
    "chi2_5_4, p_5_4, dof_5_4, expected_5_4 = st.chi2_contingency(df_subset_5_4)\n",
    "\n",
    "# Print chi-square value and p-value\n",
    "print(\"Test du chi-deux entre region_southeast et region sud ouest\")\n",
    "print(\"chi-square value:\", chi2_5_4)\n",
    "print(\"p-value:\", p_5_4)"
   ]
  },
  {
   "cell_type": "code",
   "execution_count": 74,
   "metadata": {},
   "outputs": [
    {
     "name": "stdout",
     "output_type": "stream",
     "text": [
      "pointbiserialr entre region_southwest et l'age\n",
      "t-value: -0.010016234211405505\n",
      "p-value: 0.7143297063362863\n",
      "pointbiserialr entre region_southwest  la  bmi\n",
      "t-value: 0.006205183019343327\n",
      "p-value: 0.8206045668960489\n",
      "Test du chi-deux entre region_southwest et le genre\n",
      "chi-square value: 197.97281337728623\n",
      "p-value: 1.0\n",
      "Test du chi-deux entre region_southwest et nombre d'enfant\n",
      "chi-square value: 1083.4870169586643\n",
      "p-value: 0.9999999192022109\n",
      "pointbiserialr entre nombre d'enfants et charge\n",
      "t-value: 0.043210028991684725\n",
      "p-value: 0.11414659361888743\n",
      "Test du chi-deux entre region_southwest et les fumeurs\n",
      "chi-square value: 160.47124241779233\n",
      "p-value: 1.0\n",
      "Test du chi-deux entre region_southwest et et region sud est\n",
      "chi-square value: 216.66666666666663\n",
      "p-value: 1.0\n",
      "Test du chi-deux entre region_southeast et region sud ouest\n",
      "chi-square value: 229.35652569006683\n",
      "p-value: 1.0\n"
     ]
    }
   ],
   "source": [
    "#Les region sont des variables qualitative ici une catégorie , ce qui veut dire que l'on va faire des t-test et des test de chi square\n",
    "# t-test entre region_southwest et sex\n",
    "t_region_southwest_age, p_region_southwest_age = st.pointbiserialr(data[\"region_southwest\"], data['age'])\n",
    "\n",
    "# On affiche la t-value et la p-value\n",
    "print(\"pointbiserialr entre region_southwest et l'age\")\n",
    "print(\"t-value:\", t_region_southwest_age)\n",
    "print(\"p-value:\", p_region_southwest_age)\n",
    "\n",
    "\n",
    "# t-test entre region_northwest et sex\n",
    "t_region_southwest_bmi, p_region_southwest_bmi = st.pointbiserialr(data[\"region_southwest\"], data['bmi'])\n",
    "\n",
    "# On affiche la t-value et la p-value\n",
    "print(\"pointbiserialr entre region_southwest  la  bmi\")\n",
    "print(\"t-value:\", t_region_southwest_bmi)\n",
    "print(\"p-value:\", p_region_southwest_bmi)\n",
    "\n",
    "#Test du chi-deux entre region_southeast et enfant\n",
    "df_subset_1_5 = data.loc[:, ['region_southwest', 'sex']]\n",
    "\n",
    "\n",
    "chi2_1_5, p_1_5, dof_1_5, expected_1_5 = st.chi2_contingency(df_subset_1_5)\n",
    "\n",
    "# Print chi-square value and p-value\n",
    "print(\"Test du chi-deux entre region_southwest et le genre\")\n",
    "print(\"chi-square value:\", chi2_1_5)\n",
    "print(\"p-value:\", p_1_5)\n",
    "\n",
    "\n",
    "#Test du chi-deux entre nombre d'enfant et fumer\n",
    "df_subset_2_5 = data.loc[:, ['region_southwest','children']]\n",
    "\n",
    "\n",
    "chi2_2_5, p_2_5, dof_2_5, expected_2_5 = st.chi2_contingency(df_subset_2_5)\n",
    "\n",
    "# Print chi-square value and p-value\n",
    "print(\"Test du chi-deux entre region_southwest et nombre d'enfant\")\n",
    "print(\"chi-square value:\", chi2_2_5)\n",
    "print(\"p-value:\", p_2_5)\n",
    "\n",
    "\n",
    "# t-test entre region_southwest et charge\n",
    "t_region_southwest_charge, p_region_southwest_charge = st.pointbiserialr(data[\"region_southwest\"], data['charges'])\n",
    "\n",
    "# On affiche la t-value et la p-value\n",
    "print(\"pointbiserialr entre nombre d'enfants et charge\")\n",
    "print(\"t-value:\", t_region_southwest_charge)\n",
    "print(\"p-value:\", p_region_southwest_charge)\n",
    "\n",
    "\n",
    "#Test du chi-deux entre region_southwest et les fumeurs\n",
    "df_subset_3_5 = data.loc[:, ['region_southwest', 'smoker']]\n",
    "\n",
    "\n",
    "chi2_3_5, p_3_5, dof_3_5, expected_3_5 = st.chi2_contingency(df_subset_3_5)\n",
    "\n",
    "# Print chi-square value and p-value\n",
    "print(\"Test du chi-deux entre region_southwest et les fumeurs\")\n",
    "print(\"chi-square value:\", chi2_3_5)\n",
    "print(\"p-value:\", p_3_5)\n",
    "\n",
    "#Test du chi-deux entre region_northwest et region_southwest\n",
    "df_subset_4_5 = data.loc[:, [ 'region_southwest','region_northwest']]\n",
    "\n",
    "\n",
    "chi2_4_5, p_4_5, dof_4_5, expected_4_5 = st.chi2_contingency(df_subset_4_5)\n",
    "\n",
    "# Print chi-square value and p-value\n",
    "print(\"Test du chi-deux entre region_southwest et et region sud est\")\n",
    "print(\"chi-square value:\", chi2_4_5)\n",
    "print(\"p-value:\", p_4_5)\n",
    "\n",
    "\n",
    "#Test du chi-deux entre region_southeastet region sud ouest\n",
    "df_subset_5_5 = data.loc[:, ['region_southeast', 'region_southwest']]\n",
    "\n",
    "\n",
    "chi2_5_5, p_5_5, dof_5_5, expected_5_5 = st.chi2_contingency(df_subset_5_5)\n",
    "\n",
    "# Print chi-square value and p-value\n",
    "print(\"Test du chi-deux entre region_southeast et region sud ouest\")\n",
    "print(\"chi-square value:\", chi2_5_5)\n",
    "print(\"p-value:\", p_5_5)"
   ]
  },
  {
   "cell_type": "code",
   "execution_count": 75,
   "metadata": {},
   "outputs": [
    {
     "data": {
      "text/plain": [
       "['age',\n",
       " 'sex',\n",
       " 'bmi',\n",
       " 'children',\n",
       " 'smoker',\n",
       " 'charges',\n",
       " 'region_northwest',\n",
       " 'region_southeast',\n",
       " 'region_southwest']"
      ]
     },
     "execution_count": 75,
     "metadata": {},
     "output_type": "execute_result"
    }
   ],
   "source": [
    "data.columns.to_list()"
   ]
  },
  {
   "cell_type": "code",
   "execution_count": 76,
   "metadata": {},
   "outputs": [
    {
     "data": {
      "text/plain": [
       "<AxesSubplot: title={'center': \"Diagramme en boîte des charges en fonction de l'âge\"}, xlabel='age', ylabel='charges'>"
      ]
     },
     "execution_count": 76,
     "metadata": {},
     "output_type": "execute_result"
    },
    {
     "data": {
      "image/png": "[encoded data removed]",
      "text/plain": [
       "<Figure size 1500x500 with 1 Axes>"
      ]
     },
     "metadata": {},
     "output_type": "display_data"
    }
   ],
   "source": [
    "plt.figure(figsize=(15,5))\n",
    "\n",
    "plt.title(\"Diagramme en boîte des charges en fonction de l'âge\")\n",
    "\n",
    "sns.boxplot(x='age', y='charges', data=data)"
   ]
  },
  {
   "cell_type": "code",
   "execution_count": 77,
   "metadata": {},
   "outputs": [
    {
     "data": {
      "text/plain": [
       "<AxesSubplot: xlabel='sex', ylabel='smoker'>"
      ]
     },
     "execution_count": 77,
     "metadata": {},
     "output_type": "execute_result"
    },
    {
     "data": {
      "image/png": "[encoded data removed]",
      "text/plain": [
       "<Figure size 640x480 with 1 Axes>"
      ]
     },
     "metadata": {},
     "output_type": "display_data"
    }
   ],
   "source": [
    "sns.violinplot(x='sex', y='smoker', data=data)\n"
   ]
  },
  {
   "cell_type": "code",
   "execution_count": null,
   "metadata": {},
   "outputs": [],
   "source": []
  }
 ],
 "metadata": {
  "kernelspec": {
   "display_name": "machine_learning",
   "language": "python",
   "name": "python3"
  },
  "language_info": {
   "codemirror_mode": {
    "name": "ipython",
    "version": 3
   },
   "file_extension": ".py",
   "mimetype": "text/x-python",
   "name": "python",
   "nbconvert_exporter": "python",
   "pygments_lexer": "ipython3",
   "version": "3.10.8 (main, Nov 24 2022, 14:13:03) [GCC 11.2.0]"
  },
  "orig_nbformat": 4,
  "vscode": {
   "interpreter": {
    "hash": "e086a7cab8fa81c776c2192e29fc5e21f6353cfba6c8b8ef7a8963c16780d9a1"
   }
  }
 },
 "nbformat": 4,
 "nbformat_minor": 2
}
